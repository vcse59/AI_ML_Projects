{
 "cells": [
  {
   "cell_type": "markdown",
   "metadata": {
    "id": "xFiPVWlXw_mi"
   },
   "source": [
    "### `Project - MovieLens Data Analysis`\n",
    "\n",
    "The GroupLens Research Project is a research group in the Department of Computer Science and Engineering at the University of Minnesota. The data is widely used for collaborative filtering and other filtering solutions. However, we will be using this data to act as a means to demonstrate our skill in using Python to “play” with data.\n",
    "\n",
    "### `Objective:`\n",
    "- To implement EDA techniques.\n",
    "\n",
    "### `Datasets Information:`\n",
    "\n",
    "*rating.csv:* It contains information on ratings given by the users to a particular movie.\n",
    "- user id: id assigned to every user\n",
    "- movie id: id assigned to every movie\n",
    "- rating: rating given by the user\n",
    "- timestamp: Time recorded when the user gave a rating\n",
    "\n",
    "*movie.csv:* File contains information related to the movies and their genre.\n",
    "- movie id: id assigned to every movie\n",
    "- movie title: Title of the movie\n",
    "- release date: Date of release of the movie\n",
    "- Action: Genre containing binary values (1 - for action 0 - not action)\n",
    "- Adventure: Genre containing binary values (1 - for adventure 0 - not adventure)\n",
    "- Animation: Genre containing binary values (1 - for animation 0 - not animation)\n",
    "- Children’s: Genre containing binary values (1 - for children's 0 - not children's)\n",
    "- Comedy: Genre containing binary values (1 - for comedy 0 - not comedy)\n",
    "- Crime: Genre containing binary values (1 - for crime 0 - not crime)\n",
    "- Documentary: Genre containing binary values (1 - for documentary 0 - not documentary)\n",
    "- Drama: Genre containing binary values (1 - for drama 0 - not drama)\n",
    "- Fantasy: Genre containing binary values (1 - for fantasy 0 - not fantasy)\n",
    "- Film-Noir: Genre containing binary values (1 - for film-noir 0 - not film-noir)\n",
    "- Horror: Genre containing binary values (1 - for horror 0 - not horror)\n",
    "- Musical: Genre containing binary values (1 - for musical 0 - not musical)\n",
    "- Mystery: Genre containing binary values (1 - for mystery 0 - not mystery)\n",
    "- Romance: Genre containing binary values (1 - for romance 0 - not romance)\n",
    "- Sci-Fi: Genre containing binary values (1 - for sci-fi 0 - not sci-fi)\n",
    "- Thriller: Genre containing binary values (1 - for thriller 0 - not thriller)\n",
    "- War: Genre containing binary values (1 - for war 0 - not war)\n",
    "- Western: Genre containing binary values (1 - for western - not western)\n",
    "\n",
    "\n",
    "*user.csv:* It contains information of the users who have rated the movies.\n",
    "- user id: id assigned to every user\n",
    "- age: Age of the user\n",
    "- gender: Gender of the user\n",
    "- occupation: Occupation of the user\n",
    "- zip code: Zip code of the use\n",
    "\n",
    "### `Learning Outcomes:`\n",
    "- Exploratory Data Analysis\n",
    "\n",
    "- Visualization using Python\n",
    "\n",
    "- Pandas – groupby, merging \n",
    "\n",
    "\n",
    "### `Domain` \n",
    "- Internet and Entertainment"
   ]
  },
  {
   "cell_type": "markdown",
   "metadata": {
    "id": "YvyxEyIKw_mq"
   },
   "source": [
    "### 1. Import the necessary packages"
   ]
  },
  {
   "cell_type": "code",
   "execution_count": 1,
   "metadata": {
    "executionInfo": {
     "elapsed": 974,
     "status": "ok",
     "timestamp": 1607296508096,
     "user": {
      "displayName": "vivek yadav",
      "photoUrl": "https://lh3.googleusercontent.com/a-/AOh14GhEOOk8O3rSefHI8vKAwLM1we24gy66yb9shrCRCA=s64",
      "userId": "17642121109119303017"
     },
     "user_tz": 420
    },
    "id": "FJ6YsgTbw_mr"
   },
   "outputs": [],
   "source": [
    "import pandas as pd   # Pandas python library\n",
    "import numpy as np    # Numpy python library  \n",
    "import seaborn as sns # Seaborn python library for Visualization\n",
    "import matplotlib.pyplot as plt # Pyplot python library for Visualization\n",
    "sns.set(color_codes = True) # color code for seaborn graphs\n",
    "# To display graph without printing object details on stdout\n",
    "%matplotlib inline\n",
    "\n",
    "pd.set_option(\"display.max.columns\", None)\n",
    "pd.set_option(\"display.max.rows\", 50)\n",
    "pd.set_option(\"display.precision\", 5)"
   ]
  },
  {
   "cell_type": "markdown",
   "metadata": {
    "id": "9b0ICsFLw_mz"
   },
   "source": [
    "### 2. Read the 3 datasets into dataframes"
   ]
  },
  {
   "cell_type": "code",
   "execution_count": 2,
   "metadata": {
    "executionInfo": {
     "elapsed": 1270,
     "status": "ok",
     "timestamp": 1607296508415,
     "user": {
      "displayName": "vivek yadav",
      "photoUrl": "https://lh3.googleusercontent.com/a-/AOh14GhEOOk8O3rSefHI8vKAwLM1we24gy66yb9shrCRCA=s64",
      "userId": "17642121109119303017"
     },
     "user_tz": 420
    },
    "id": "qTgmDilLw_m0",
    "scrolled": true
   },
   "outputs": [],
   "source": [
    "'''\n",
    "Reading user ratings, movie and user data from .csv file\n",
    "and converting the same to Pandas dataframe\n",
    "'''\n",
    "# Reading user ratings data from .csv file\n",
    "userRatingDataDf  = pd.read_csv('Data.csv')\n",
    "\n",
    "# Reading movie data from .csv file\n",
    "movieDataDf       = pd.read_csv('item.csv')\n",
    "\n",
    "# User data from .csv file\n",
    "userDataDf        = pd.read_csv('user.csv')"
   ]
  },
  {
   "cell_type": "markdown",
   "metadata": {
    "id": "DL46O3Dxw_m4"
   },
   "source": [
    "### 3. Apply info, shape, describe, and find the number of missing values in the data. Present at least 3 observations from these operation"
   ]
  },
  {
   "cell_type": "code",
   "execution_count": 3,
   "metadata": {
    "colab": {
     "base_uri": "https://localhost:8080/"
    },
    "executionInfo": {
     "elapsed": 1263,
     "status": "ok",
     "timestamp": 1607296508416,
     "user": {
      "displayName": "vivek yadav",
      "photoUrl": "https://lh3.googleusercontent.com/a-/AOh14GhEOOk8O3rSefHI8vKAwLM1we24gy66yb9shrCRCA=s64",
      "userId": "17642121109119303017"
     },
     "user_tz": 420
    },
    "id": "AVjh00Lcw_m5",
    "outputId": "37e8902f-a58a-4014-d5ad-fa1327492ee0"
   },
   "outputs": [
    {
     "name": "stdout",
     "output_type": "stream",
     "text": [
      "DataFrame information of User ratings data \n",
      "====================\n",
      "<class 'pandas.core.frame.DataFrame'>\n",
      "RangeIndex: 100000 entries, 0 to 99999\n",
      "Data columns (total 4 columns):\n",
      " #   Column     Non-Null Count   Dtype\n",
      "---  ------     --------------   -----\n",
      " 0   user id    100000 non-null  int64\n",
      " 1   movie id   100000 non-null  int64\n",
      " 2   rating     100000 non-null  int64\n",
      " 3   timestamp  100000 non-null  int64\n",
      "dtypes: int64(4)\n",
      "memory usage: 3.1 MB\n",
      "Shape of user ratings data : (100000, 4)\n",
      "Describe stats of user ratings data : \n",
      "            user id      movie id        rating    timestamp\n",
      "count  100000.00000  100000.00000  100000.00000  1.00000e+05\n",
      "mean      462.48475     425.53013       3.52986  8.83529e+08\n",
      "std       266.61442     330.79836       1.12567  5.34386e+06\n",
      "min         1.00000       1.00000       1.00000  8.74725e+08\n",
      "25%       254.00000     175.00000       3.00000  8.79449e+08\n",
      "50%       447.00000     322.00000       4.00000  8.82827e+08\n",
      "75%       682.00000     631.00000       4.00000  8.88260e+08\n",
      "max       943.00000    1682.00000       5.00000  8.93287e+08\n",
      "Number of missing data in user ratings data : 0\n",
      "\n",
      "\n",
      "DataFrame information of movie data \n",
      "====================\n",
      "<class 'pandas.core.frame.DataFrame'>\n",
      "RangeIndex: 1681 entries, 0 to 1680\n",
      "Data columns (total 22 columns):\n",
      " #   Column        Non-Null Count  Dtype \n",
      "---  ------        --------------  ----- \n",
      " 0   movie id      1681 non-null   int64 \n",
      " 1   movie title   1681 non-null   object\n",
      " 2   release date  1681 non-null   object\n",
      " 3   unknown       1681 non-null   int64 \n",
      " 4   Action        1681 non-null   int64 \n",
      " 5   Adventure     1681 non-null   int64 \n",
      " 6   Animation     1681 non-null   int64 \n",
      " 7   Childrens     1681 non-null   int64 \n",
      " 8   Comedy        1681 non-null   int64 \n",
      " 9   Crime         1681 non-null   int64 \n",
      " 10  Documentary   1681 non-null   int64 \n",
      " 11  Drama         1681 non-null   int64 \n",
      " 12  Fantasy       1681 non-null   int64 \n",
      " 13  Film-Noir     1681 non-null   int64 \n",
      " 14  Horror        1681 non-null   int64 \n",
      " 15  Musical       1681 non-null   int64 \n",
      " 16  Mystery       1681 non-null   int64 \n",
      " 17  Romance       1681 non-null   int64 \n",
      " 18  Sci-Fi        1681 non-null   int64 \n",
      " 19  Thriller      1681 non-null   int64 \n",
      " 20  War           1681 non-null   int64 \n",
      " 21  Western       1681 non-null   int64 \n",
      "dtypes: int64(20), object(2)\n",
      "memory usage: 289.0+ KB\n",
      "Shape of movie data : (1681, 22)\n",
      "Describe stats of movie data : \n",
      "         movie id     unknown      Action   Adventure   Animation   Childrens  \\\n",
      "count  1681.00000  1681.00000  1681.00000  1681.00000  1681.00000  1681.00000   \n",
      "mean    841.84176     0.00059     0.14932     0.08031     0.02499     0.07258   \n",
      "std     485.63808     0.02439     0.35651     0.27185     0.15613     0.25952   \n",
      "min       1.00000     0.00000     0.00000     0.00000     0.00000     0.00000   \n",
      "25%     422.00000     0.00000     0.00000     0.00000     0.00000     0.00000   \n",
      "50%     842.00000     0.00000     0.00000     0.00000     0.00000     0.00000   \n",
      "75%    1262.00000     0.00000     0.00000     0.00000     0.00000     0.00000   \n",
      "max    1682.00000     1.00000     1.00000     1.00000     1.00000     1.00000   \n",
      "\n",
      "           Comedy       Crime  Documentary       Drama     Fantasy  \\\n",
      "count  1681.00000  1681.00000   1681.00000  1681.00000  1681.00000   \n",
      "mean      0.30042     0.06484      0.02974     0.43129     0.01309   \n",
      "std       0.45858     0.24632      0.16993     0.49540     0.11368   \n",
      "min       0.00000     0.00000      0.00000     0.00000     0.00000   \n",
      "25%       0.00000     0.00000      0.00000     0.00000     0.00000   \n",
      "50%       0.00000     0.00000      0.00000     0.00000     0.00000   \n",
      "75%       1.00000     0.00000      0.00000     1.00000     0.00000   \n",
      "max       1.00000     1.00000      1.00000     1.00000     1.00000   \n",
      "\n",
      "        Film-Noir      Horror     Musical     Mystery     Romance      Sci-Fi  \\\n",
      "count  1681.00000  1681.00000  1681.00000  1681.00000  1681.00000  1681.00000   \n",
      "mean      0.01428     0.05473     0.03331     0.03629     0.14694     0.06008   \n",
      "std       0.11867     0.22752     0.17951     0.18706     0.35415     0.23771   \n",
      "min       0.00000     0.00000     0.00000     0.00000     0.00000     0.00000   \n",
      "25%       0.00000     0.00000     0.00000     0.00000     0.00000     0.00000   \n",
      "50%       0.00000     0.00000     0.00000     0.00000     0.00000     0.00000   \n",
      "75%       0.00000     0.00000     0.00000     0.00000     0.00000     0.00000   \n",
      "max       1.00000     1.00000     1.00000     1.00000     1.00000     1.00000   \n",
      "\n",
      "         Thriller         War     Western  \n",
      "count  1681.00000  1681.00000  1681.00000  \n",
      "mean      0.14932     0.04224     0.01606  \n",
      "std       0.35651     0.20119     0.12575  \n",
      "min       0.00000     0.00000     0.00000  \n",
      "25%       0.00000     0.00000     0.00000  \n",
      "50%       0.00000     0.00000     0.00000  \n",
      "75%       0.00000     0.00000     0.00000  \n",
      "max       1.00000     1.00000     1.00000  \n",
      "Number of missing data in movie data : 0\n",
      "\n",
      "\n",
      "DataFrame information of user data \n",
      "====================\n",
      "<class 'pandas.core.frame.DataFrame'>\n",
      "RangeIndex: 943 entries, 0 to 942\n",
      "Data columns (total 5 columns):\n",
      " #   Column      Non-Null Count  Dtype \n",
      "---  ------      --------------  ----- \n",
      " 0   user id     943 non-null    int64 \n",
      " 1   age         943 non-null    int64 \n",
      " 2   gender      943 non-null    object\n",
      " 3   occupation  943 non-null    object\n",
      " 4   zip code    943 non-null    object\n",
      "dtypes: int64(2), object(3)\n",
      "memory usage: 37.0+ KB\n",
      "Shape of user data : (943, 5)\n",
      "Describe stats of user data : \n",
      "         user id        age\n",
      "count  943.00000  943.00000\n",
      "mean   472.00000   34.05196\n",
      "std    272.36495   12.19274\n",
      "min      1.00000    7.00000\n",
      "25%    236.50000   25.00000\n",
      "50%    472.00000   31.00000\n",
      "75%    707.50000   43.00000\n",
      "max    943.00000   73.00000\n",
      "Number of missing data in user data : 0\n"
     ]
    }
   ],
   "source": [
    "# Reading info, shape, describe and number of missing values in user ratings data\n",
    "print (\"DataFrame information of User ratings data \\n====================\")\n",
    "userRatingDataDf.info()   # Information about user ratings dataset\n",
    "print ('Shape of user ratings data : {0}' .format(userRatingDataDf.shape)) # Shape of user ratings dataset \n",
    "print ('Describe stats of user ratings data : \\n{0}' .format(userRatingDataDf.describe())) # Describe stats of user ratings dataset\n",
    "print (\"Number of missing data in user ratings data : {0}\" .format(userRatingDataDf.isnull().sum().sum())) # Total number of missing values in user ratings dataset\n",
    "\n",
    "# Reading info, shape, describe and number of missing values in movie data\n",
    "print (\"\\n\\nDataFrame information of movie data \\n====================\")\n",
    "movieDataDf.info()  # Information about movies dataset\n",
    "print ('Shape of movie data : {0}' .format(movieDataDf.shape))  # Shape of movies dataset \n",
    "print ('Describe stats of movie data : \\n{0}' .format(movieDataDf.describe()))  # Describe stats of movies dataset\n",
    "print (\"Number of missing data in movie data : {0}\" .format(movieDataDf.isnull().sum().sum()))  # Total number of missing values in movies dataset\n",
    "\n",
    "# Reading info, shape, describe and number of missing values in user data\n",
    "print (\"\\n\\nDataFrame information of user data \\n====================\")\n",
    "userDataDf.info() # Information about user dataset\n",
    "print ('Shape of user data : {0}' .format(userDataDf.shape))  # Shape of user dataset \n",
    "print ('Describe stats of user data : \\n{0}' .format(userDataDf.describe()))  # Describe stats of user dataset\n",
    "print (\"Number of missing data in user data : {0}\" .format(userDataDf.isnull().sum().sum()))  # Total number of missing values in user dataset"
   ]
  },
  {
   "cell_type": "markdown",
   "metadata": {
    "id": "iCrG1tROw_m-"
   },
   "source": [
    "**Observations:**\n",
    "Number of missing values in all 3 data set is 0"
   ]
  },
  {
   "cell_type": "markdown",
   "metadata": {
    "id": "1wizhLqww_m_"
   },
   "source": [
    "### 4. Find the number of movies per genre using the item data"
   ]
  },
  {
   "cell_type": "code",
   "execution_count": 4,
   "metadata": {
    "colab": {
     "base_uri": "https://localhost:8080/"
    },
    "executionInfo": {
     "elapsed": 1254,
     "status": "ok",
     "timestamp": 1607296508417,
     "user": {
      "displayName": "vivek yadav",
      "photoUrl": "https://lh3.googleusercontent.com/a-/AOh14GhEOOk8O3rSefHI8vKAwLM1we24gy66yb9shrCRCA=s64",
      "userId": "17642121109119303017"
     },
     "user_tz": 420
    },
    "id": "8NGLd8J-w_nA",
    "outputId": "504c3845-9e19-4776-869c-08032bce29a9"
   },
   "outputs": [
    {
     "name": "stdout",
     "output_type": "stream",
     "text": [
      "Count of Movies in unknown genre category is : 1\n",
      "Count of Movies in Action genre category is : 251\n",
      "Count of Movies in Adventure genre category is : 135\n",
      "Count of Movies in Animation genre category is : 42\n",
      "Count of Movies in Childrens genre category is : 122\n",
      "Count of Movies in Comedy genre category is : 505\n",
      "Count of Movies in Crime genre category is : 109\n",
      "Count of Movies in Documentary genre category is : 50\n",
      "Count of Movies in Drama genre category is : 725\n",
      "Count of Movies in Fantasy genre category is : 22\n",
      "Count of Movies in Film-Noir genre category is : 24\n",
      "Count of Movies in Horror genre category is : 92\n",
      "Count of Movies in Musical genre category is : 56\n",
      "Count of Movies in Mystery genre category is : 61\n",
      "Count of Movies in Romance genre category is : 247\n",
      "Count of Movies in Sci-Fi genre category is : 101\n",
      "Count of Movies in Thriller genre category is : 251\n",
      "Count of Movies in War genre category is : 71\n",
      "Count of Movies in Western genre category is : 27\n"
     ]
    }
   ],
   "source": [
    "movieDataDfColumns = movieDataDf.iloc[:, 3:]  # Fetch columns of movie data set\n",
    "\n",
    "for genre in movieDataDfColumns:\n",
    "  # Iterate over each column of genre category and print where value is 1\n",
    "  print (\"Count of Movies in {0} genre category is : {1}\" .format(genre, movieDataDf[movieDataDf[genre] == 1][genre].sum()))"
   ]
  },
  {
   "cell_type": "markdown",
   "metadata": {
    "id": "u-CxcCP5w_nE"
   },
   "source": [
    "**Insights:**\n",
    "Only 1 movie is in unknown category and most of movies lies in Drame OR Comedy category\n"
   ]
  },
  {
   "cell_type": "markdown",
   "metadata": {
    "id": "z5cf6EaTw_nF"
   },
   "source": [
    "### 5. Drop the movie where the genre is unknown"
   ]
  },
  {
   "cell_type": "code",
   "execution_count": 5,
   "metadata": {
    "colab": {
     "base_uri": "https://localhost:8080/"
    },
    "executionInfo": {
     "elapsed": 1673,
     "status": "ok",
     "timestamp": 1607296508848,
     "user": {
      "displayName": "vivek yadav",
      "photoUrl": "https://lh3.googleusercontent.com/a-/AOh14GhEOOk8O3rSefHI8vKAwLM1we24gy66yb9shrCRCA=s64",
      "userId": "17642121109119303017"
     },
     "user_tz": 420
    },
    "id": "0hLp2O9sw_nG",
    "outputId": "ac60cd30-168f-4ec4-dfd3-53e7802a33e8"
   },
   "outputs": [
    {
     "name": "stdout",
     "output_type": "stream",
     "text": [
      "index: Int64Index([1371], dtype='int64')\n"
     ]
    }
   ],
   "source": [
    "unknownMovieIndex = movieDataDf[movieDataDf.unknown == 1].index # Fetching row index where the genre is unknown\n",
    "print(\"index: {0}\" .format(unknownMovieIndex))  \n",
    "movieDataDf.drop(unknownMovieIndex, inplace = True) # drop the row with index value captured previously"
   ]
  },
  {
   "cell_type": "markdown",
   "metadata": {
    "id": "R1A77GQQw_nK"
   },
   "source": [
    "**Insights:**\n",
    "There is only 1 movie whose genre is unknown"
   ]
  },
  {
   "cell_type": "markdown",
   "metadata": {
    "id": "ovY3xNwHw_nL"
   },
   "source": [
    "### 6. Find the movies that have more than one genre"
   ]
  },
  {
   "cell_type": "code",
   "execution_count": 6,
   "metadata": {
    "colab": {
     "base_uri": "https://localhost:8080/"
    },
    "executionInfo": {
     "elapsed": 1665,
     "status": "ok",
     "timestamp": 1607296508850,
     "user": {
      "displayName": "vivek yadav",
      "photoUrl": "https://lh3.googleusercontent.com/a-/AOh14GhEOOk8O3rSefHI8vKAwLM1we24gy66yb9shrCRCA=s64",
      "userId": "17642121109119303017"
     },
     "user_tz": 420
    },
    "id": "eFU4CDIZw_nM",
    "outputId": "851ff9e6-2e98-4f71-9f0a-46366e58fab6"
   },
   "outputs": [
    {
     "name": "stdout",
     "output_type": "stream",
     "text": [
      "Movie name and Genre dataset having more than one genre : \n",
      "              movie title  Number_Of_Genre\n",
      "0             Toy Story                 3\n",
      "1             GoldenEye                 3\n",
      "3            Get Shorty                 3\n",
      "4               Copycat                 3\n",
      "6        Twelve Monkeys                 2\n",
      "...                  ...              ...\n",
      "1667  MURDER and murder                 3\n",
      "1668            Tainted                 2\n",
      "1671             Mirage                 2\n",
      "1677          B. Monkey                 2\n",
      "1678      Sliding Doors                 2\n",
      "\n",
      "[849 rows x 2 columns]\n",
      "Number of movies with more than one genre : 849\n"
     ]
    }
   ],
   "source": [
    "movieDataDf['Number_Of_Genre'] = movieDataDf.iloc[:, 3:].sum(axis = 1) # Add up all the genre values for each rows and save it new column\n",
    "movieGenreDataFrame = movieDataDf[movieDataDf.Number_Of_Genre > 1] # Filtering out data for a movie whose genre is more than one\n",
    "print (\"Movie name and Genre dataset having more than one genre : \\n {0}\" .format(movieGenreDataFrame[['movie title', 'Number_Of_Genre']]))   # Data frame with more than one genre\n",
    "print(\"Number of movies with more than one genre : {0}\" .format(movieGenreDataFrame['movie title'].count()))  # Total number of movies which have more than one genres"
   ]
  },
  {
   "cell_type": "markdown",
   "metadata": {
    "id": "d8K91066w_nS"
   },
   "source": [
    "**Insights:**\n",
    "Around 50% of data is having more than one genre\n"
   ]
  },
  {
   "cell_type": "markdown",
   "metadata": {
    "id": "4BJPJGW5w_nT"
   },
   "source": [
    "### 7. Univariate plots of columns: 'rating', 'Age', 'release year', 'Gender' and 'Occupation'"
   ]
  },
  {
   "cell_type": "code",
   "execution_count": 7,
   "metadata": {
    "colab": {
     "base_uri": "https://localhost:8080/"
    },
    "executionInfo": {
     "elapsed": 1655,
     "status": "ok",
     "timestamp": 1607296508851,
     "user": {
      "displayName": "vivek yadav",
      "photoUrl": "https://lh3.googleusercontent.com/a-/AOh14GhEOOk8O3rSefHI8vKAwLM1we24gy66yb9shrCRCA=s64",
      "userId": "17642121109119303017"
     },
     "user_tz": 420
    },
    "id": "YvAEAvYOw_nU",
    "outputId": "3fef01f1-5a86-40c1-d33f-c63d474238f6"
   },
   "outputs": [
    {
     "name": "stdout",
     "output_type": "stream",
     "text": [
      "brown\n",
      "brown\n",
      "brown\n"
     ]
    }
   ],
   "source": [
    "a = 'My*cat*is*brown'\n",
    "print(a.split('*')[3])\n",
    "\n",
    "#similarly, the release year needs to be taken out from release date\n",
    "\n",
    "#also you can simply slice existing string to get the desired data, if we want to take out the colour of the cat\n",
    "\n",
    "print(a[10:])\n",
    "print(a[-5:])"
   ]
  },
  {
   "cell_type": "code",
   "execution_count": 8,
   "metadata": {
    "colab": {
     "base_uri": "https://localhost:8080/",
     "height": 285
    },
    "executionInfo": {
     "elapsed": 1645,
     "status": "ok",
     "timestamp": 1607296508853,
     "user": {
      "displayName": "vivek yadav",
      "photoUrl": "https://lh3.googleusercontent.com/a-/AOh14GhEOOk8O3rSefHI8vKAwLM1we24gy66yb9shrCRCA=s64",
      "userId": "17642121109119303017"
     },
     "user_tz": 420
    },
    "id": "53SCVFp7w_na",
    "outputId": "a4218b0b-fc30-46a8-b2c3-fda015eba749"
   },
   "outputs": [
    {
     "data": {
      "image/png": "[encoded data removed]",
      "text/plain": [
       "<Figure size 432x288 with 1 Axes>"
      ]
     },
     "metadata": {
      "needs_background": "light"
     },
     "output_type": "display_data"
    }
   ],
   "source": [
    "sns.countplot(x = 'rating', data = userRatingDataDf);  # Univariate plots of rating"
   ]
  },
  {
   "cell_type": "code",
   "execution_count": 9,
   "metadata": {
    "colab": {
     "base_uri": "https://localhost:8080/",
     "height": 369
    },
    "executionInfo": {
     "elapsed": 2398,
     "status": "ok",
     "timestamp": 1607296509619,
     "user": {
      "displayName": "vivek yadav",
      "photoUrl": "https://lh3.googleusercontent.com/a-/AOh14GhEOOk8O3rSefHI8vKAwLM1we24gy66yb9shrCRCA=s64",
      "userId": "17642121109119303017"
     },
     "user_tz": 420
    },
    "id": "vkTHMGvJN9-m",
    "outputId": "a3d7cc5d-8933-49ea-a04e-3da6d7112d05"
   },
   "outputs": [
    {
     "data": {
      "image/png": "[encoded data removed]",
      "text/plain": [
       "<Figure size 360x360 with 1 Axes>"
      ]
     },
     "metadata": {
      "needs_background": "light"
     },
     "output_type": "display_data"
    }
   ],
   "source": [
    "sns.displot(x = 'age', data = userDataDf, kde = True);  # Univariate plots of gge"
   ]
  },
  {
   "cell_type": "code",
   "execution_count": 10,
   "metadata": {
    "colab": {
     "base_uri": "https://localhost:8080/",
     "height": 285
    },
    "executionInfo": {
     "elapsed": 4597,
     "status": "ok",
     "timestamp": 1607296511832,
     "user": {
      "displayName": "vivek yadav",
      "photoUrl": "https://lh3.googleusercontent.com/a-/AOh14GhEOOk8O3rSefHI8vKAwLM1we24gy66yb9shrCRCA=s64",
      "userId": "17642121109119303017"
     },
     "user_tz": 420
    },
    "id": "JpiTUdjSOmCq",
    "outputId": "42517bbb-8f91-4255-87e4-9a263fafee03"
   },
   "outputs": [
    {
     "data": {
      "image/png": "[encoded data removed]",
      "text/plain": [
       "<Figure size 432x288 with 1 Axes>"
      ]
     },
     "metadata": {
      "needs_background": "light"
     },
     "output_type": "display_data"
    }
   ],
   "source": [
    "movieDataDf['year'] = movieDataDf['release date'].apply(lambda x : x.split('-')[2]) # Filtering out year from release year values\n",
    "movieDataDf.sort_values(by = 'year', inplace = True)  # Sorting dataset by year for plotting\n",
    "sns.countplot(x = 'year', data = movieDataDf); # Univariate plots of year"
   ]
  },
  {
   "cell_type": "code",
   "execution_count": 11,
   "metadata": {
    "colab": {
     "base_uri": "https://localhost:8080/",
     "height": 288
    },
    "executionInfo": {
     "elapsed": 4585,
     "status": "ok",
     "timestamp": 1607296511834,
     "user": {
      "displayName": "vivek yadav",
      "photoUrl": "https://lh3.googleusercontent.com/a-/AOh14GhEOOk8O3rSefHI8vKAwLM1we24gy66yb9shrCRCA=s64",
      "userId": "17642121109119303017"
     },
     "user_tz": 420
    },
    "id": "gQJZQe0EOAUt",
    "outputId": "f59cd275-c541-44e2-9387-393256d4aae7"
   },
   "outputs": [
    {
     "data": {
      "image/png": "[encoded data removed]",
      "text/plain": [
       "<Figure size 432x288 with 1 Axes>"
      ]
     },
     "metadata": {
      "needs_background": "light"
     },
     "output_type": "display_data"
    }
   ],
   "source": [
    "sns.countplot(x = 'gender', data = userDataDf); # Univariate plots of gender"
   ]
  },
  {
   "cell_type": "code",
   "execution_count": 12,
   "metadata": {
    "colab": {
     "base_uri": "https://localhost:8080/",
     "height": 285
    },
    "executionInfo": {
     "elapsed": 4849,
     "status": "ok",
     "timestamp": 1607296512111,
     "user": {
      "displayName": "vivek yadav",
      "photoUrl": "https://lh3.googleusercontent.com/a-/AOh14GhEOOk8O3rSefHI8vKAwLM1we24gy66yb9shrCRCA=s64",
      "userId": "17642121109119303017"
     },
     "user_tz": 420
    },
    "id": "nyRuoLBPOC5J",
    "outputId": "1c5b058c-d1a5-46bc-a4e5-a5277b8f88f7"
   },
   "outputs": [
    {
     "data": {
      "image/png": "[encoded data removed]",
      "text/plain": [
       "<Figure size 432x288 with 1 Axes>"
      ]
     },
     "metadata": {
      "needs_background": "light"
     },
     "output_type": "display_data"
    }
   ],
   "source": [
    "sns.countplot(y = 'occupation', data = userDataDf); # Univariate plots of occupation"
   ]
  },
  {
   "cell_type": "markdown",
   "metadata": {
    "id": "OhenDlaow_ne"
   },
   "source": [
    "### 8. Visualize how popularity of genres has changed over the years"
   ]
  },
  {
   "cell_type": "code",
   "execution_count": 13,
   "metadata": {
    "colab": {
     "base_uri": "https://localhost:8080/",
     "height": 554
    },
    "executionInfo": {
     "elapsed": 5843,
     "status": "ok",
     "timestamp": 1607296513119,
     "user": {
      "displayName": "vivek yadav",
      "photoUrl": "https://lh3.googleusercontent.com/a-/AOh14GhEOOk8O3rSefHI8vKAwLM1we24gy66yb9shrCRCA=s64",
      "userId": "17642121109119303017"
     },
     "user_tz": 420
    },
    "id": "g7aouoOBw_nf",
    "outputId": "10905deb-2aec-4b50-e8a5-a2bbf4bf4a0a"
   },
   "outputs": [
    {
     "data": {
      "image/png": "[encoded data removed]",
      "text/plain": [
       "<Figure size 1152x576 with 2 Axes>"
      ]
     },
     "metadata": {
      "needs_background": "light"
     },
     "output_type": "display_data"
    }
   ],
   "source": [
    "movieDataDf.year = movieDataDf.year.apply(lambda x : float(x))\n",
    "YearGenreDF = movieDataDf.groupby('year').sum()   # Summing values by year\n",
    "YearGenreDF.drop(columns = ['movie id','Number_Of_Genre'], inplace = True) # Remove unnecessary columns\n",
    "YearGenreDF['total'] = YearGenreDF.sum(axis = 1)    # Summing values thourgh column axis\n",
    "YearGenreDF = YearGenreDF.div(YearGenreDF.total, axis = 0) * 100  # Calculate % for each genre values\n",
    "YearGenreDF.drop(columns=['total'], inplace = True)\n",
    "YearGenreDF.reset_index(inplace = True) # Reset the dataframe index\n",
    "YearGenreDF.set_index('year', inplace = True) # Setting year column as a index\n",
    "\n",
    "plt.figure(figsize=(16, 8))\n",
    "sns.heatmap(YearGenreDF, linewidth = 1, cmap=\"CMRmap_r\")\n",
    "plt.show()"
   ]
  },
  {
   "cell_type": "markdown",
   "metadata": {
    "id": "5kiOWb1Sw_nk"
   },
   "source": [
    "**Insights:**\n",
    "\n",
    "Over the years , popularity of genres is going down"
   ]
  },
  {
   "cell_type": "markdown",
   "metadata": {
    "id": "702Shg5Kw_nl"
   },
   "source": [
    "### 9. Find the top 25 movies in terms of average ratings for movies that have been rated more than 100 times"
   ]
  },
  {
   "cell_type": "code",
   "execution_count": 14,
   "metadata": {
    "colab": {
     "base_uri": "https://localhost:8080/",
     "height": 855
    },
    "executionInfo": {
     "elapsed": 5833,
     "status": "ok",
     "timestamp": 1607296513122,
     "user": {
      "displayName": "vivek yadav",
      "photoUrl": "https://lh3.googleusercontent.com/a-/AOh14GhEOOk8O3rSefHI8vKAwLM1we24gy66yb9shrCRCA=s64",
      "userId": "17642121109119303017"
     },
     "user_tz": 420
    },
    "id": "zeT8eN8Ew_nm",
    "outputId": "0338d05c-f40d-45d2-c956-44ca793b1187"
   },
   "outputs": [
    {
     "data": {
      "text/html": [
       "<div>\n",
       "<style scoped>\n",
       "    .dataframe tbody tr th:only-of-type {\n",
       "        vertical-align: middle;\n",
       "    }\n",
       "\n",
       "    .dataframe tbody tr th {\n",
       "        vertical-align: top;\n",
       "    }\n",
       "\n",
       "    .dataframe thead tr th {\n",
       "        text-align: left;\n",
       "    }\n",
       "</style>\n",
       "<table border=\"1\" class=\"dataframe\">\n",
       "  <thead>\n",
       "    <tr>\n",
       "      <th></th>\n",
       "      <th>movie id</th>\n",
       "      <th>movie title</th>\n",
       "      <th colspan=\"2\" halign=\"left\">rating</th>\n",
       "    </tr>\n",
       "    <tr>\n",
       "      <th></th>\n",
       "      <th></th>\n",
       "      <th></th>\n",
       "      <th>count</th>\n",
       "      <th>mean</th>\n",
       "    </tr>\n",
       "  </thead>\n",
       "  <tbody>\n",
       "    <tr>\n",
       "      <th>406</th>\n",
       "      <td>408</td>\n",
       "      <td>Close Shave, A</td>\n",
       "      <td>112</td>\n",
       "      <td>4.49107</td>\n",
       "    </tr>\n",
       "    <tr>\n",
       "      <th>316</th>\n",
       "      <td>318</td>\n",
       "      <td>Schindler's List</td>\n",
       "      <td>298</td>\n",
       "      <td>4.46644</td>\n",
       "    </tr>\n",
       "    <tr>\n",
       "      <th>168</th>\n",
       "      <td>169</td>\n",
       "      <td>Wrong Trousers, The</td>\n",
       "      <td>118</td>\n",
       "      <td>4.46610</td>\n",
       "    </tr>\n",
       "    <tr>\n",
       "      <th>481</th>\n",
       "      <td>483</td>\n",
       "      <td>Casablanca</td>\n",
       "      <td>243</td>\n",
       "      <td>4.45679</td>\n",
       "    </tr>\n",
       "    <tr>\n",
       "      <th>63</th>\n",
       "      <td>64</td>\n",
       "      <td>Shawshank Redemption, The</td>\n",
       "      <td>283</td>\n",
       "      <td>4.44523</td>\n",
       "    </tr>\n",
       "    <tr>\n",
       "      <th>601</th>\n",
       "      <td>603</td>\n",
       "      <td>Rear Window</td>\n",
       "      <td>209</td>\n",
       "      <td>4.38756</td>\n",
       "    </tr>\n",
       "    <tr>\n",
       "      <th>11</th>\n",
       "      <td>12</td>\n",
       "      <td>Usual Suspects, The</td>\n",
       "      <td>267</td>\n",
       "      <td>4.38577</td>\n",
       "    </tr>\n",
       "    <tr>\n",
       "      <th>49</th>\n",
       "      <td>50</td>\n",
       "      <td>Star Wars</td>\n",
       "      <td>583</td>\n",
       "      <td>4.35849</td>\n",
       "    </tr>\n",
       "    <tr>\n",
       "      <th>177</th>\n",
       "      <td>178</td>\n",
       "      <td>12 Angry Men</td>\n",
       "      <td>125</td>\n",
       "      <td>4.34400</td>\n",
       "    </tr>\n",
       "    <tr>\n",
       "      <th>133</th>\n",
       "      <td>134</td>\n",
       "      <td>Citizen Kane</td>\n",
       "      <td>198</td>\n",
       "      <td>4.29293</td>\n",
       "    </tr>\n",
       "    <tr>\n",
       "      <th>425</th>\n",
       "      <td>427</td>\n",
       "      <td>To Kill a Mockingbird</td>\n",
       "      <td>219</td>\n",
       "      <td>4.29224</td>\n",
       "    </tr>\n",
       "    <tr>\n",
       "      <th>355</th>\n",
       "      <td>357</td>\n",
       "      <td>One Flew Over the Cuckoo's Nest</td>\n",
       "      <td>264</td>\n",
       "      <td>4.29167</td>\n",
       "    </tr>\n",
       "    <tr>\n",
       "      <th>97</th>\n",
       "      <td>98</td>\n",
       "      <td>Silence of the Lambs, The</td>\n",
       "      <td>390</td>\n",
       "      <td>4.28974</td>\n",
       "    </tr>\n",
       "    <tr>\n",
       "      <th>478</th>\n",
       "      <td>480</td>\n",
       "      <td>North by Northwest</td>\n",
       "      <td>179</td>\n",
       "      <td>4.28492</td>\n",
       "    </tr>\n",
       "    <tr>\n",
       "      <th>126</th>\n",
       "      <td>127</td>\n",
       "      <td>Godfather, The</td>\n",
       "      <td>413</td>\n",
       "      <td>4.28329</td>\n",
       "    </tr>\n",
       "    <tr>\n",
       "      <th>283</th>\n",
       "      <td>285</td>\n",
       "      <td>Secrets &amp; Lies</td>\n",
       "      <td>162</td>\n",
       "      <td>4.26543</td>\n",
       "    </tr>\n",
       "    <tr>\n",
       "      <th>270</th>\n",
       "      <td>272</td>\n",
       "      <td>Good Will Hunting</td>\n",
       "      <td>198</td>\n",
       "      <td>4.26263</td>\n",
       "    </tr>\n",
       "    <tr>\n",
       "      <th>655</th>\n",
       "      <td>657</td>\n",
       "      <td>Manchurian Candidate, The</td>\n",
       "      <td>131</td>\n",
       "      <td>4.25954</td>\n",
       "    </tr>\n",
       "    <tr>\n",
       "      <th>472</th>\n",
       "      <td>474</td>\n",
       "      <td>Dr. Strangelove or: How I Learned to Stop Worr...</td>\n",
       "      <td>194</td>\n",
       "      <td>4.25258</td>\n",
       "    </tr>\n",
       "    <tr>\n",
       "      <th>173</th>\n",
       "      <td>174</td>\n",
       "      <td>Raiders of the Lost Ark</td>\n",
       "      <td>420</td>\n",
       "      <td>4.25238</td>\n",
       "    </tr>\n",
       "    <tr>\n",
       "      <th>477</th>\n",
       "      <td>479</td>\n",
       "      <td>Vertigo</td>\n",
       "      <td>179</td>\n",
       "      <td>4.25140</td>\n",
       "    </tr>\n",
       "    <tr>\n",
       "      <th>311</th>\n",
       "      <td>313</td>\n",
       "      <td>Titanic</td>\n",
       "      <td>350</td>\n",
       "      <td>4.24571</td>\n",
       "    </tr>\n",
       "    <tr>\n",
       "      <th>509</th>\n",
       "      <td>511</td>\n",
       "      <td>Lawrence of Arabia</td>\n",
       "      <td>173</td>\n",
       "      <td>4.23121</td>\n",
       "    </tr>\n",
       "    <tr>\n",
       "      <th>482</th>\n",
       "      <td>484</td>\n",
       "      <td>Maltese Falcon, The</td>\n",
       "      <td>138</td>\n",
       "      <td>4.21014</td>\n",
       "    </tr>\n",
       "    <tr>\n",
       "      <th>171</th>\n",
       "      <td>172</td>\n",
       "      <td>Empire Strikes Back, The</td>\n",
       "      <td>367</td>\n",
       "      <td>4.20436</td>\n",
       "    </tr>\n",
       "  </tbody>\n",
       "</table>\n",
       "</div>"
      ],
      "text/plain": [
       "    movie id                                        movie title rating  \\\n",
       "                                                                 count   \n",
       "406      408                                    Close Shave, A     112   \n",
       "316      318                                  Schindler's List     298   \n",
       "168      169                               Wrong Trousers, The     118   \n",
       "481      483                                        Casablanca     243   \n",
       "63        64                         Shawshank Redemption, The     283   \n",
       "601      603                                       Rear Window     209   \n",
       "11        12                               Usual Suspects, The     267   \n",
       "49        50                                         Star Wars     583   \n",
       "177      178                                      12 Angry Men     125   \n",
       "133      134                                      Citizen Kane     198   \n",
       "425      427                             To Kill a Mockingbird     219   \n",
       "355      357                   One Flew Over the Cuckoo's Nest     264   \n",
       "97        98                         Silence of the Lambs, The     390   \n",
       "478      480                                North by Northwest     179   \n",
       "126      127                                    Godfather, The     413   \n",
       "283      285                                    Secrets & Lies     162   \n",
       "270      272                                 Good Will Hunting     198   \n",
       "655      657                         Manchurian Candidate, The     131   \n",
       "472      474  Dr. Strangelove or: How I Learned to Stop Worr...    194   \n",
       "173      174                           Raiders of the Lost Ark     420   \n",
       "477      479                                           Vertigo     179   \n",
       "311      313                                           Titanic     350   \n",
       "509      511                                Lawrence of Arabia     173   \n",
       "482      484                               Maltese Falcon, The     138   \n",
       "171      172                          Empire Strikes Back, The     367   \n",
       "\n",
       "              \n",
       "        mean  \n",
       "406  4.49107  \n",
       "316  4.46644  \n",
       "168  4.46610  \n",
       "481  4.45679  \n",
       "63   4.44523  \n",
       "601  4.38756  \n",
       "11   4.38577  \n",
       "49   4.35849  \n",
       "177  4.34400  \n",
       "133  4.29293  \n",
       "425  4.29224  \n",
       "355  4.29167  \n",
       "97   4.28974  \n",
       "478  4.28492  \n",
       "126  4.28329  \n",
       "283  4.26543  \n",
       "270  4.26263  \n",
       "655  4.25954  \n",
       "472  4.25258  \n",
       "173  4.25238  \n",
       "477  4.25140  \n",
       "311  4.24571  \n",
       "509  4.23121  \n",
       "482  4.21014  \n",
       "171  4.20436  "
      ]
     },
     "execution_count": 14,
     "metadata": {},
     "output_type": "execute_result"
    }
   ],
   "source": [
    "mergedDf = pd.merge(userRatingDataDf, movieDataDf, how = 'outer', on = 'movie id')  # Merge user rating and movie data set using outer on movie id column\n",
    "filteredDf = mergedDf.groupby(['movie id', 'movie title']).agg({'rating' : ['count', 'mean']})  # Calculate mean and count of rating by grouping movie id and movie title\n",
    "filteredDf.reset_index(inplace = True) # Reset data frame index\n",
    "filteredDf = filteredDf[filteredDf['rating']['count'] > 100]  # Filtered out the data where rating count is more than 100\n",
    "filteredDf.sort_values( by = [('rating', 'mean')], inplace = True, ascending = False) # Sort the data by average value of rating\n",
    "filteredDf.head(25)  # Print top 25 movies"
   ]
  },
  {
   "cell_type": "markdown",
   "metadata": {
    "id": "Cy7Ria3Mw_nr"
   },
   "source": [
    "### 10. Check for the validity of the below statements with respect to the data provided"
   ]
  },
  {
   "cell_type": "code",
   "execution_count": 15,
   "metadata": {
    "colab": {
     "base_uri": "https://localhost:8080/"
    },
    "executionInfo": {
     "elapsed": 5823,
     "status": "ok",
     "timestamp": 1607296513124,
     "user": {
      "displayName": "vivek yadav",
      "photoUrl": "https://lh3.googleusercontent.com/a-/AOh14GhEOOk8O3rSefHI8vKAwLM1we24gy66yb9shrCRCA=s64",
      "userId": "17642121109119303017"
     },
     "user_tz": 420
    },
    "id": "yNgbnD2gw_ns",
    "outputId": "4878b50d-db30-4f6f-ced7-74609b46547a"
   },
   "outputs": [
    {
     "name": "stdout",
     "output_type": "stream",
     "text": [
      "Men watch 42.77 Percentage of drama and women is 38.9\n"
     ]
    }
   ],
   "source": [
    "mergedDf = pd.merge(userRatingDataDf, movieDataDf, how = 'outer', on = 'movie id')  # Merge user rating and movie data set using outer on movie id column\n",
    "mergedData = pd.merge(mergedDf, userDataDf, how = 'outer', on = 'user id')  # Merge all the data set using outer on user id column\n",
    "\n",
    "# Calculate total ratings received by women and men\n",
    "womenRatings = mergedData.groupby('gender')['rating'].count()['F']\n",
    "menRatings = mergedData.groupby('gender')['rating'].count()['M']\n",
    "\n",
    "# Calculate total ratings received by women and men for drama genre\n",
    "womenDramaRatings = mergedData[mergedData.Drama == 1].groupby('gender')['rating'].count()['F']\n",
    "menDramaRatings = mergedData[mergedData.Drama == 1].groupby('gender')['rating'].count()['M']\n",
    "\n",
    "# Calculate percentage of men watch drame genre\n",
    "menPercent = round(((womenDramaRatings/womenRatings) * 100), 2)\n",
    "womenPercent = round(((menDramaRatings/menRatings) * 100), 2)\n",
    "print(\"Men watch {0} Percentage of drama and women is {1}\" .format( menPercent, womenPercent))"
   ]
  },
  {
   "cell_type": "code",
   "execution_count": 16,
   "metadata": {
    "colab": {
     "base_uri": "https://localhost:8080/"
    },
    "executionInfo": {
     "elapsed": 5813,
     "status": "ok",
     "timestamp": 1607296513125,
     "user": {
      "displayName": "vivek yadav",
      "photoUrl": "https://lh3.googleusercontent.com/a-/AOh14GhEOOk8O3rSefHI8vKAwLM1we24gy66yb9shrCRCA=s64",
      "userId": "17642121109119303017"
     },
     "user_tz": 420
    },
    "id": "AjVupo0A2wMN",
    "outputId": "f69a18ad-96bb-4050-a053-a4c2c4f5a66f"
   },
   "outputs": [
    {
     "name": "stdout",
     "output_type": "stream",
     "text": [
      "Men watch 10.21 Percentage of Sci-Fi and women is 13.6\n"
     ]
    }
   ],
   "source": [
    "# Calculate total ratings received by women and men for Sci-Fi genre\n",
    "womenDramaRatings = mergedData[mergedData['Sci-Fi'] == 1].groupby('gender')['rating'].count()['F']\n",
    "menDramaRatings = mergedData[mergedData['Sci-Fi'] == 1].groupby('gender')['rating'].count()['M']\n",
    "\n",
    "# Calculate percentage of men watch Sci-Fi genre\n",
    "menPercent = round(((womenDramaRatings/womenRatings) * 100), 2)\n",
    "womenPercent = round(((menDramaRatings/menRatings) * 100), 2)\n",
    "print(\"Men watch {0} Percentage of Sci-Fi and women is {1}\" .format( menPercent, womenPercent))"
   ]
  },
  {
   "cell_type": "code",
   "execution_count": 17,
   "metadata": {
    "colab": {
     "base_uri": "https://localhost:8080/"
    },
    "executionInfo": {
     "elapsed": 5805,
     "status": "ok",
     "timestamp": 1607296513127,
     "user": {
      "displayName": "vivek yadav",
      "photoUrl": "https://lh3.googleusercontent.com/a-/AOh14GhEOOk8O3rSefHI8vKAwLM1we24gy66yb9shrCRCA=s64",
      "userId": "17642121109119303017"
     },
     "user_tz": 420
    },
    "id": "mtGpmEQf3jAa",
    "outputId": "753be53e-3c29-4cfc-e6a2-6337069f0a85"
   },
   "outputs": [
    {
     "name": "stdout",
     "output_type": "stream",
     "text": [
      "Men watch 22.76 Percentage of Romance and women is 18.32\n"
     ]
    }
   ],
   "source": [
    "# Calculate total ratings received by women and men for Romance genre\n",
    "womenDramaRatings = mergedData[mergedData.Romance == 1].groupby('gender')['rating'].count()['F']\n",
    "menDramaRatings = mergedData[mergedData.Romance == 1].groupby('gender')['rating'].count()['M']\n",
    "\n",
    "# Calculate percentage of men watch Romance genre\n",
    "menPercent = round(((womenDramaRatings/womenRatings) * 100), 2)\n",
    "womenPercent = round(((menDramaRatings/menRatings) * 100), 2)\n",
    "print(\"Men watch {0} Percentage of Romance and women is {1}\" .format( menPercent, womenPercent))"
   ]
  },
  {
   "cell_type": "markdown",
   "metadata": {
    "id": "UEzGpcVYw_nx"
   },
   "source": [
    "**Conclusion:**\n",
    "\n",
    "Men watch more drama than women    ---> TRUE\n",
    "\n",
    "Women watch more Sci-Fi than men   ---> TRUE\n",
    "\n",
    "Men watch more Romance than women  ---> TRUE\n"
   ]
  },
  {
   "cell_type": "code",
   "execution_count": 18,
   "metadata": {
    "colab": {
     "base_uri": "https://localhost:8080/"
    },
    "executionInfo": {
     "elapsed": 5793,
     "status": "ok",
     "timestamp": 1607296513128,
     "user": {
      "displayName": "vivek yadav",
      "photoUrl": "https://lh3.googleusercontent.com/a-/AOh14GhEOOk8O3rSefHI8vKAwLM1we24gy66yb9shrCRCA=s64",
      "userId": "17642121109119303017"
     },
     "user_tz": 420
    },
    "id": "zYxPUt9tTX0O",
    "outputId": "9ee2fc58-bd37-4ca0-c894-89ef0ae2f00f"
   },
   "outputs": [
    {
     "name": "stdout",
     "output_type": "stream",
     "text": [
      "Index(['user id', 'movie id', 'rating', 'timestamp', 'movie title',\n",
      "       'release date', 'unknown', 'Action', 'Adventure', 'Animation',\n",
      "       'Childrens', 'Comedy', 'Crime', 'Documentary', 'Drama', 'Fantasy',\n",
      "       'Film-Noir', 'Horror', 'Musical', 'Mystery', 'Romance', 'Sci-Fi',\n",
      "       'Thriller', 'War', 'Western', 'Number_Of_Genre', 'year', 'age',\n",
      "       'gender', 'occupation', 'zip code'],\n",
      "      dtype='object')\n"
     ]
    }
   ],
   "source": [
    "mergedDf = pd.merge(userRatingDataDf, movieDataDf, how = 'inner', on = 'movie id')  # Merge user rating and movie data set using outer on movie id column\n",
    "mergedData = pd.merge(mergedDf, userDataDf, how = 'inner', on = 'user id')  # Merge all the data set using outer on user id column\n",
    "\n",
    "print(mergedData.columns)"
   ]
  },
  {
   "cell_type": "code",
   "execution_count": 19,
   "metadata": {
    "executionInfo": {
     "elapsed": 5781,
     "status": "ok",
     "timestamp": 1607296513130,
     "user": {
      "displayName": "vivek yadav",
      "photoUrl": "https://lh3.googleusercontent.com/a-/AOh14GhEOOk8O3rSefHI8vKAwLM1we24gy66yb9shrCRCA=s64",
      "userId": "17642121109119303017"
     },
     "user_tz": 420
    },
    "id": "Vvrd3N-aUESL"
   },
   "outputs": [],
   "source": [
    "genrebasedOnGender = mergedData.groupby('gender').sum().loc[:,'unknown':'Western']"
   ]
  },
  {
   "cell_type": "code",
   "execution_count": 20,
   "metadata": {
    "colab": {
     "base_uri": "https://localhost:8080/"
    },
    "executionInfo": {
     "elapsed": 5770,
     "status": "ok",
     "timestamp": 1607296513131,
     "user": {
      "displayName": "vivek yadav",
      "photoUrl": "https://lh3.googleusercontent.com/a-/AOh14GhEOOk8O3rSefHI8vKAwLM1we24gy66yb9shrCRCA=s64",
      "userId": "17642121109119303017"
     },
     "user_tz": 420
    },
    "id": "IqgKCavtUnqS",
    "outputId": "e4fc0bd1-0148-495a-b4f7-1e877f6e3359"
   },
   "outputs": [
    {
     "name": "stdout",
     "output_type": "stream",
     "text": [
      "        unknown  Action  Adventure  Animation  Childrens  Comedy  Crime  \\\n",
      "gender                                                                    \n",
      "F             0    5442       3141        995       2232    8068   1794   \n",
      "M             0   20147      10612       2610       4950   21764   6261   \n",
      "\n",
      "        Documentary  Drama  Fantasy  Film-Noir  Horror  Musical  Mystery  \\\n",
      "gender                                                                     \n",
      "F               187  11008      363        385    1197     1442     1314   \n",
      "M               571  28887      989       1348    4120     3512     3931   \n",
      "\n",
      "        Romance  Sci-Fi  Thriller   War  Western  \n",
      "gender                                            \n",
      "F          5858    2629      5086  2189      371  \n",
      "M         13603   10101     16786  7209     1483  \n"
     ]
    }
   ],
   "source": [
    "print(genrebasedOnGender)"
   ]
  },
  {
   "cell_type": "code",
   "execution_count": 21,
   "metadata": {
    "colab": {
     "base_uri": "https://localhost:8080/",
     "height": 179
    },
    "executionInfo": {
     "elapsed": 606,
     "status": "ok",
     "timestamp": 1607296565874,
     "user": {
      "displayName": "vivek yadav",
      "photoUrl": "https://lh3.googleusercontent.com/a-/AOh14GhEOOk8O3rSefHI8vKAwLM1we24gy66yb9shrCRCA=s64",
      "userId": "17642121109119303017"
     },
     "user_tz": 420
    },
    "id": "9slAL-ayUrLT",
    "outputId": "f34a0ece-f5a0-4a8b-dc65-e8e14c6d2c0e"
   },
   "outputs": [
    {
     "data": {
      "text/html": [
       "<div>\n",
       "<style scoped>\n",
       "    .dataframe tbody tr th:only-of-type {\n",
       "        vertical-align: middle;\n",
       "    }\n",
       "\n",
       "    .dataframe tbody tr th {\n",
       "        vertical-align: top;\n",
       "    }\n",
       "\n",
       "    .dataframe thead th {\n",
       "        text-align: right;\n",
       "    }\n",
       "</style>\n",
       "<table border=\"1\" class=\"dataframe\">\n",
       "  <thead>\n",
       "    <tr style=\"text-align: right;\">\n",
       "      <th></th>\n",
       "      <th>unknown</th>\n",
       "      <th>Action</th>\n",
       "      <th>Adventure</th>\n",
       "      <th>Animation</th>\n",
       "      <th>Childrens</th>\n",
       "      <th>Comedy</th>\n",
       "      <th>Crime</th>\n",
       "      <th>Documentary</th>\n",
       "      <th>Drama</th>\n",
       "      <th>Fantasy</th>\n",
       "      <th>Film-Noir</th>\n",
       "      <th>Horror</th>\n",
       "      <th>Musical</th>\n",
       "      <th>Mystery</th>\n",
       "      <th>Romance</th>\n",
       "      <th>Sci-Fi</th>\n",
       "      <th>Thriller</th>\n",
       "      <th>War</th>\n",
       "      <th>Western</th>\n",
       "      <th>total</th>\n",
       "    </tr>\n",
       "    <tr>\n",
       "      <th>gender</th>\n",
       "      <th></th>\n",
       "      <th></th>\n",
       "      <th></th>\n",
       "      <th></th>\n",
       "      <th></th>\n",
       "      <th></th>\n",
       "      <th></th>\n",
       "      <th></th>\n",
       "      <th></th>\n",
       "      <th></th>\n",
       "      <th></th>\n",
       "      <th></th>\n",
       "      <th></th>\n",
       "      <th></th>\n",
       "      <th></th>\n",
       "      <th></th>\n",
       "      <th></th>\n",
       "      <th></th>\n",
       "      <th></th>\n",
       "      <th></th>\n",
       "    </tr>\n",
       "  </thead>\n",
       "  <tbody>\n",
       "    <tr>\n",
       "      <th>F</th>\n",
       "      <td>0</td>\n",
       "      <td>5442</td>\n",
       "      <td>3141</td>\n",
       "      <td>995</td>\n",
       "      <td>2232</td>\n",
       "      <td>8068</td>\n",
       "      <td>1794</td>\n",
       "      <td>187</td>\n",
       "      <td>11008</td>\n",
       "      <td>363</td>\n",
       "      <td>385</td>\n",
       "      <td>1197</td>\n",
       "      <td>1442</td>\n",
       "      <td>1314</td>\n",
       "      <td>5858</td>\n",
       "      <td>2629</td>\n",
       "      <td>5086</td>\n",
       "      <td>2189</td>\n",
       "      <td>371</td>\n",
       "      <td>25738</td>\n",
       "    </tr>\n",
       "    <tr>\n",
       "      <th>M</th>\n",
       "      <td>0</td>\n",
       "      <td>20147</td>\n",
       "      <td>10612</td>\n",
       "      <td>2610</td>\n",
       "      <td>4950</td>\n",
       "      <td>21764</td>\n",
       "      <td>6261</td>\n",
       "      <td>571</td>\n",
       "      <td>28887</td>\n",
       "      <td>989</td>\n",
       "      <td>1348</td>\n",
       "      <td>4120</td>\n",
       "      <td>3512</td>\n",
       "      <td>3931</td>\n",
       "      <td>13603</td>\n",
       "      <td>10101</td>\n",
       "      <td>16786</td>\n",
       "      <td>7209</td>\n",
       "      <td>1483</td>\n",
       "      <td>74252</td>\n",
       "    </tr>\n",
       "  </tbody>\n",
       "</table>\n",
       "</div>"
      ],
      "text/plain": [
       "        unknown  Action  Adventure  Animation  Childrens  Comedy  Crime  \\\n",
       "gender                                                                    \n",
       "F             0    5442       3141        995       2232    8068   1794   \n",
       "M             0   20147      10612       2610       4950   21764   6261   \n",
       "\n",
       "        Documentary  Drama  Fantasy  Film-Noir  Horror  Musical  Mystery  \\\n",
       "gender                                                                     \n",
       "F               187  11008      363        385    1197     1442     1314   \n",
       "M               571  28887      989       1348    4120     3512     3931   \n",
       "\n",
       "        Romance  Sci-Fi  Thriller   War  Western  total  \n",
       "gender                                                   \n",
       "F          5858    2629      5086  2189      371  25738  \n",
       "M         13603   10101     16786  7209     1483  74252  "
      ]
     },
     "execution_count": 21,
     "metadata": {},
     "output_type": "execute_result"
    }
   ],
   "source": [
    "genrebasedOnGender['total'] = mergedData.gender.value_counts()\n",
    "genrebasedOnGender"
   ]
  },
  {
   "cell_type": "code",
   "execution_count": 22,
   "metadata": {
    "colab": {
     "base_uri": "https://localhost:8080/",
     "height": 179
    },
    "executionInfo": {
     "elapsed": 629,
     "status": "ok",
     "timestamp": 1607296580994,
     "user": {
      "displayName": "vivek yadav",
      "photoUrl": "https://lh3.googleusercontent.com/a-/AOh14GhEOOk8O3rSefHI8vKAwLM1we24gy66yb9shrCRCA=s64",
      "userId": "17642121109119303017"
     },
     "user_tz": 420
    },
    "id": "mxQsdYJXU2tG",
    "outputId": "1951ccaa-304b-42e1-fb70-752845cc921c"
   },
   "outputs": [
    {
     "data": {
      "text/html": [
       "<div>\n",
       "<style scoped>\n",
       "    .dataframe tbody tr th:only-of-type {\n",
       "        vertical-align: middle;\n",
       "    }\n",
       "\n",
       "    .dataframe tbody tr th {\n",
       "        vertical-align: top;\n",
       "    }\n",
       "\n",
       "    .dataframe thead th {\n",
       "        text-align: right;\n",
       "    }\n",
       "</style>\n",
       "<table border=\"1\" class=\"dataframe\">\n",
       "  <thead>\n",
       "    <tr style=\"text-align: right;\">\n",
       "      <th></th>\n",
       "      <th>unknown</th>\n",
       "      <th>Action</th>\n",
       "      <th>Adventure</th>\n",
       "      <th>Animation</th>\n",
       "      <th>Childrens</th>\n",
       "      <th>Comedy</th>\n",
       "      <th>Crime</th>\n",
       "      <th>Documentary</th>\n",
       "      <th>Drama</th>\n",
       "      <th>Fantasy</th>\n",
       "      <th>Film-Noir</th>\n",
       "      <th>Horror</th>\n",
       "      <th>Musical</th>\n",
       "      <th>Mystery</th>\n",
       "      <th>Romance</th>\n",
       "      <th>Sci-Fi</th>\n",
       "      <th>Thriller</th>\n",
       "      <th>War</th>\n",
       "      <th>Western</th>\n",
       "      <th>total</th>\n",
       "    </tr>\n",
       "    <tr>\n",
       "      <th>gender</th>\n",
       "      <th></th>\n",
       "      <th></th>\n",
       "      <th></th>\n",
       "      <th></th>\n",
       "      <th></th>\n",
       "      <th></th>\n",
       "      <th></th>\n",
       "      <th></th>\n",
       "      <th></th>\n",
       "      <th></th>\n",
       "      <th></th>\n",
       "      <th></th>\n",
       "      <th></th>\n",
       "      <th></th>\n",
       "      <th></th>\n",
       "      <th></th>\n",
       "      <th></th>\n",
       "      <th></th>\n",
       "      <th></th>\n",
       "      <th></th>\n",
       "    </tr>\n",
       "  </thead>\n",
       "  <tbody>\n",
       "    <tr>\n",
       "      <th>F</th>\n",
       "      <td>0.0</td>\n",
       "      <td>21.14383</td>\n",
       "      <td>12.20375</td>\n",
       "      <td>3.86588</td>\n",
       "      <td>8.67200</td>\n",
       "      <td>31.34665</td>\n",
       "      <td>6.97024</td>\n",
       "      <td>0.72655</td>\n",
       "      <td>42.76945</td>\n",
       "      <td>1.41037</td>\n",
       "      <td>1.49584</td>\n",
       "      <td>4.65071</td>\n",
       "      <td>5.60261</td>\n",
       "      <td>5.10529</td>\n",
       "      <td>22.76012</td>\n",
       "      <td>10.21447</td>\n",
       "      <td>19.76067</td>\n",
       "      <td>8.50493</td>\n",
       "      <td>1.44145</td>\n",
       "      <td>100.0</td>\n",
       "    </tr>\n",
       "    <tr>\n",
       "      <th>M</th>\n",
       "      <td>0.0</td>\n",
       "      <td>27.13328</td>\n",
       "      <td>14.29187</td>\n",
       "      <td>3.51506</td>\n",
       "      <td>6.66649</td>\n",
       "      <td>29.31099</td>\n",
       "      <td>8.43210</td>\n",
       "      <td>0.76900</td>\n",
       "      <td>38.90400</td>\n",
       "      <td>1.33195</td>\n",
       "      <td>1.81544</td>\n",
       "      <td>5.54867</td>\n",
       "      <td>4.72984</td>\n",
       "      <td>5.29413</td>\n",
       "      <td>18.32005</td>\n",
       "      <td>13.60367</td>\n",
       "      <td>22.60680</td>\n",
       "      <td>9.70883</td>\n",
       "      <td>1.99725</td>\n",
       "      <td>100.0</td>\n",
       "    </tr>\n",
       "  </tbody>\n",
       "</table>\n",
       "</div>"
      ],
      "text/plain": [
       "        unknown    Action  Adventure  Animation  Childrens    Comedy    Crime  \\\n",
       "gender                                                                          \n",
       "F           0.0  21.14383   12.20375    3.86588    8.67200  31.34665  6.97024   \n",
       "M           0.0  27.13328   14.29187    3.51506    6.66649  29.31099  8.43210   \n",
       "\n",
       "        Documentary     Drama  Fantasy  Film-Noir   Horror  Musical  Mystery  \\\n",
       "gender                                                                         \n",
       "F           0.72655  42.76945  1.41037    1.49584  4.65071  5.60261  5.10529   \n",
       "M           0.76900  38.90400  1.33195    1.81544  5.54867  4.72984  5.29413   \n",
       "\n",
       "         Romance    Sci-Fi  Thriller      War  Western  total  \n",
       "gender                                                         \n",
       "F       22.76012  10.21447  19.76067  8.50493  1.44145  100.0  \n",
       "M       18.32005  13.60367  22.60680  9.70883  1.99725  100.0  "
      ]
     },
     "execution_count": 22,
     "metadata": {},
     "output_type": "execute_result"
    }
   ],
   "source": [
    "genrebasedOnGender = genrebasedOnGender.div(genrebasedOnGender.total, axis = 0) * 100\n",
    "genrebasedOnGender"
   ]
  }
 ],
 "metadata": {
  "colab": {
   "collapsed_sections": [],
   "name": "MovieLens Project Question Notebook.ipynb",
   "provenance": []
  },
  "kernelspec": {
   "display_name": "Python 3",
   "language": "python",
   "name": "python3"
  },
  "language_info": {
   "codemirror_mode": {
    "name": "ipython",
    "version": 3
   },
   "file_extension": ".py",
   "mimetype": "text/x-python",
   "name": "python",
   "nbconvert_exporter": "python",
   "pygments_lexer": "ipython3",
   "version": "3.6.9"
  }
 },
 "nbformat": 4,
 "nbformat_minor": 4
}
