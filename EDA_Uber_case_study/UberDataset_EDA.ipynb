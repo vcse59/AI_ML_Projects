{
 "cells": [
  {
   "cell_type": "code",
   "execution_count": 33,
   "metadata": {
    "colab": {
     "base_uri": "https://localhost:8080/"
    },
    "executionInfo": {
     "elapsed": 4214,
     "status": "ok",
     "timestamp": 1605248338462,
     "user": {
      "displayName": "vivek yadav",
      "photoUrl": "https://lh3.googleusercontent.com/a-/AOh14GhEOOk8O3rSefHI8vKAwLM1we24gy66yb9shrCRCA=s64",
      "userId": "17642121109119303017"
     },
     "user_tz": 420
    },
    "id": "3GiGtOqXX6Mq",
    "outputId": "c0d48575-f5e1-40c8-fc77-873b2fa59a23"
   },
   "outputs": [],
   "source": [
    "# Import python packages\n",
    "import numpy as np\n",
    "import pandas as pd\n",
    "from datetime import datetime, timedelta"
   ]
  },
  {
   "cell_type": "code",
   "execution_count": 34,
   "metadata": {},
   "outputs": [
    {
     "name": "stdout",
     "output_type": "stream",
     "text": [
      "UberDrive columns are : Index(['Trip_Id', 'START_DATE*', 'END_DATE*', 'CATEGORY*', 'START*', 'STOP*',\n",
      "       'PURPOSE*'],\n",
      "      dtype='object')\n",
      "UberDrive data: \n",
      "Trip_Id                       5\n",
      "START_DATE*    01-06-2016 14:42\n",
      "END_DATE*      01-06-2016 15:49\n",
      "CATEGORY*              Business\n",
      "START*              Fort Pierce\n",
      "STOP*           West Palm Beach\n",
      "PURPOSE*         Customer Visit\n",
      "Name: 4, dtype: object\n",
      "Shape of UberDrive : (1155, 7)\n",
      "UberDrive miles columns are : Index(['Trip_Id', 'MILES*'], dtype='object')\n",
      "UberDrive miles data: \n",
      "   Trip_Id  MILES*\n",
      "0        1     5.1\n",
      "1        2     5.0\n",
      "2        3     4.8\n",
      "Shape of UberDrive Miles : (1155, 2)\n"
     ]
    }
   ],
   "source": [
    "# Read uberdrive.csv data\n",
    "uberDriveDataFrame = pd.read_csv('uberdrive.csv')\n",
    "print (\"UberDrive columns are : {0}\" .format(uberDriveDataFrame.columns))\n",
    "print (\"UberDrive data: \\n{0}\" .format(uberDriveDataFrame.iloc[4]))\n",
    "print (\"Shape of UberDrive : {0}\" .format(uberDriveDataFrame.shape))\n",
    "\n",
    "# Read Unserdrive_Miles.csv\n",
    "uberDriveMilesDataFrame = pd.read_csv('UberDrive_Miles.csv')\n",
    "print (\"UberDrive miles columns are : {0}\" .format(uberDriveMilesDataFrame.columns))\n",
    "print (\"UberDrive miles data: \\n{0}\" .format(uberDriveMilesDataFrame.head(3)))\n",
    "print (\"Shape of UberDrive Miles : {0}\" .format(uberDriveMilesDataFrame.shape))"
   ]
  },
  {
   "cell_type": "code",
   "execution_count": 35,
   "metadata": {},
   "outputs": [
    {
     "name": "stdout",
     "output_type": "stream",
     "text": [
      "<class 'pandas.core.frame.DataFrame'>\n",
      "RangeIndex: 1155 entries, 0 to 1154\n",
      "Data columns (total 7 columns):\n",
      " #   Column       Non-Null Count  Dtype \n",
      "---  ------       --------------  ----- \n",
      " 0   Trip_Id      1155 non-null   int64 \n",
      " 1   START_DATE*  1155 non-null   object\n",
      " 2   END_DATE*    1155 non-null   object\n",
      " 3   CATEGORY*    1155 non-null   object\n",
      " 4   START*       1155 non-null   object\n",
      " 5   STOP*        1155 non-null   object\n",
      " 6   PURPOSE*     653 non-null    object\n",
      "dtypes: int64(1), object(6)\n",
      "memory usage: 63.3+ KB\n",
      "<class 'pandas.core.frame.DataFrame'>\n",
      "RangeIndex: 1155 entries, 0 to 1154\n",
      "Data columns (total 2 columns):\n",
      " #   Column   Non-Null Count  Dtype  \n",
      "---  ------   --------------  -----  \n",
      " 0   Trip_Id  1155 non-null   int64  \n",
      " 1   MILES*   1155 non-null   float64\n",
      "dtypes: float64(1), int64(1)\n",
      "memory usage: 18.2 KB\n"
     ]
    }
   ],
   "source": [
    "# Findout data type of each column\n",
    "uberDriveDataFrame.info()\n",
    "uberDriveMilesDataFrame.info()"
   ]
  },
  {
   "cell_type": "code",
   "execution_count": 36,
   "metadata": {},
   "outputs": [],
   "source": [
    "# Replace the character * from column name\n",
    "uberDriveDataFrame.columns = uberDriveDataFrame.columns.str.replace(\"*\",\"\")\n",
    "uberDriveMilesDataFrame.columns = uberDriveMilesDataFrame.columns.str.replace(\"*\",\"\")"
   ]
  },
  {
   "cell_type": "code",
   "execution_count": 37,
   "metadata": {},
   "outputs": [
    {
     "name": "stdout",
     "output_type": "stream",
     "text": [
      "Description of uberDriveDataFrame :            Trip_Id\n",
      "count  1155.000000\n",
      "mean    578.000000\n",
      "std     333.564087\n",
      "min       1.000000\n",
      "25%     289.500000\n",
      "50%     578.000000\n",
      "75%     866.500000\n",
      "max    1155.000000\n",
      "Description of uberDriveMilesDataFrame :            Trip_Id        MILES\n",
      "count  1155.000000  1155.000000\n",
      "mean    578.000000    10.566840\n",
      "std     333.564087    21.579106\n",
      "min       1.000000     0.500000\n",
      "25%     289.500000     2.900000\n",
      "50%     578.000000     6.000000\n",
      "75%     866.500000    10.400000\n",
      "max    1155.000000   310.300000\n"
     ]
    }
   ],
   "source": [
    "# get numerical overview of numerical tyoe columns\n",
    "print (\"Description of uberDriveDataFrame : {0}\" .format(uberDriveDataFrame.describe()))\n",
    "print (\"Description of uberDriveMilesDataFrame : {0}\" .format(uberDriveMilesDataFrame.describe()))"
   ]
  },
  {
   "cell_type": "code",
   "execution_count": 38,
   "metadata": {},
   "outputs": [
    {
     "name": "stdout",
     "output_type": "stream",
     "text": [
      "<class 'pandas.core.frame.DataFrame'>\n",
      "RangeIndex: 1155 entries, 0 to 1154\n",
      "Data columns (total 7 columns):\n",
      " #   Column      Non-Null Count  Dtype \n",
      "---  ------      --------------  ----- \n",
      " 0   Trip_Id     1155 non-null   int64 \n",
      " 1   START_DATE  1155 non-null   object\n",
      " 2   END_DATE    1155 non-null   object\n",
      " 3   CATEGORY    1155 non-null   object\n",
      " 4   START       1155 non-null   object\n",
      " 5   STOP        1155 non-null   object\n",
      " 6   PURPOSE     653 non-null    object\n",
      "dtypes: int64(1), object(6)\n",
      "memory usage: 63.3+ KB\n",
      "<class 'pandas.core.frame.DataFrame'>\n",
      "RangeIndex: 1155 entries, 0 to 1154\n",
      "Data columns (total 2 columns):\n",
      " #   Column   Non-Null Count  Dtype  \n",
      "---  ------   --------------  -----  \n",
      " 0   Trip_Id  1155 non-null   int64  \n",
      " 1   MILES    1155 non-null   float64\n",
      "dtypes: float64(1), int64(1)\n",
      "memory usage: 18.2 KB\n"
     ]
    }
   ],
   "source": [
    "# Findout data type of each column\n",
    "uberDriveDataFrame.info()\n",
    "uberDriveMilesDataFrame.info()"
   ]
  },
  {
   "cell_type": "code",
   "execution_count": 39,
   "metadata": {},
   "outputs": [
    {
     "name": "stdout",
     "output_type": "stream",
     "text": [
      "UberDrive data with PURPOSE as null : \n",
      "    Trip_Id        START_DATE          END_DATE  CATEGORY        START  \\\n",
      "1         2  01-02-2016 01:25  01-02-2016 01:37  Business  Fort Pierce   \n",
      "32       33    1/19/2016 9:09    1/19/2016 9:23  Business  Whitebridge   \n",
      "85       86  02-09-2016 10:54  02-09-2016 11:07  Personal  Whitebridge   \n",
      "86       87  02-09-2016 11:43  02-09-2016 11:50  Personal   Northwoods   \n",
      "87       88  02-09-2016 13:36  02-09-2016 13:52  Personal   Tanglewood   \n",
      "\n",
      "                   STOP PURPOSE  \n",
      "1           Fort Pierce     NaN  \n",
      "32  Lake Wellingborough     NaN  \n",
      "85           Northwoods     NaN  \n",
      "86           Tanglewood     NaN  \n",
      "87              Preston     NaN  \n",
      "UberDrive Miles data with miles > 30 : \n",
      "     Trip_Id  MILES\n",
      "4          5   63.7\n",
      "36        37   40.2\n",
      "108      109   43.7\n",
      "232      233  136.0\n",
      "233      234   30.2\n"
     ]
    }
   ],
   "source": [
    "print(\"UberDrive data with PURPOSE as null : \\n{0}\" \n",
    "    .format(uberDriveDataFrame[uberDriveDataFrame['PURPOSE'].isnull()].head()))\n",
    "\n",
    "print(\"UberDrive Miles data with miles > 30 : \\n{0}\" \n",
    "    .format(uberDriveMilesDataFrame[uberDriveMilesDataFrame.MILES > 30].head()))"
   ]
  },
  {
   "cell_type": "code",
   "execution_count": 40,
   "metadata": {},
   "outputs": [],
   "source": [
    "# Dropping row with null values\n",
    "uberDriveDataFrame = uberDriveDataFrame.dropna()\n",
    "uberDriveMilesDataFrame = uberDriveMilesDataFrame.dropna()"
   ]
  },
  {
   "cell_type": "code",
   "execution_count": 41,
   "metadata": {},
   "outputs": [
    {
     "name": "stdout",
     "output_type": "stream",
     "text": [
      "<class 'pandas.core.frame.DataFrame'>\n",
      "Int64Index: 653 entries, 0 to 1154\n",
      "Data columns (total 7 columns):\n",
      " #   Column      Non-Null Count  Dtype \n",
      "---  ------      --------------  ----- \n",
      " 0   Trip_Id     653 non-null    int64 \n",
      " 1   START_DATE  653 non-null    object\n",
      " 2   END_DATE    653 non-null    object\n",
      " 3   CATEGORY    653 non-null    object\n",
      " 4   START       653 non-null    object\n",
      " 5   STOP        653 non-null    object\n",
      " 6   PURPOSE     653 non-null    object\n",
      "dtypes: int64(1), object(6)\n",
      "memory usage: 40.8+ KB\n",
      "<class 'pandas.core.frame.DataFrame'>\n",
      "Int64Index: 1155 entries, 0 to 1154\n",
      "Data columns (total 2 columns):\n",
      " #   Column   Non-Null Count  Dtype  \n",
      "---  ------   --------------  -----  \n",
      " 0   Trip_Id  1155 non-null   int64  \n",
      " 1   MILES    1155 non-null   float64\n",
      "dtypes: float64(1), int64(1)\n",
      "memory usage: 27.1 KB\n"
     ]
    }
   ],
   "source": [
    "# Findout data type of each column\n",
    "uberDriveDataFrame.info()\n",
    "uberDriveMilesDataFrame.info()"
   ]
  },
  {
   "cell_type": "code",
   "execution_count": 42,
   "metadata": {},
   "outputs": [
    {
     "name": "stdout",
     "output_type": "stream",
     "text": [
      "Unique start points counts : 131 and values are : \n",
      "['Fort Pierce' 'West Palm Beach' 'Cary' 'Jamaica' 'New York' 'Elmhurst'\n",
      " 'Midtown' 'East Harlem' 'Flatiron District' 'Midtown East'\n",
      " 'Hudson Square' 'Lower Manhattan' \"Hell's Kitchen\" 'Downtown' 'Gulfton'\n",
      " 'Houston' 'Eagan Park' 'Morrisville' 'Durham' 'Farmington Woods'\n",
      " 'Lake Wellingborough' 'Fayetteville Street' 'Raleigh' 'Whitebridge'\n",
      " 'Hazelwood' 'Fairmont' 'Meredith Townes' 'Apex' 'Chapel Hill'\n",
      " 'Northwoods' 'Edgehill Farms' 'Eastgate' 'East Elmhurst'\n",
      " 'Long Island City' 'Katunayaka' 'Colombo' 'Nugegoda' 'Unknown Location'\n",
      " 'Islamabad' 'R?walpindi' 'Noorpur Shahan' 'Preston' 'Heritage Pines'\n",
      " 'Tanglewood' 'Waverly Place' 'Wayne Ridge' 'Westpark Place' 'East Austin'\n",
      " 'The Drag' 'South Congress' 'Georgian Acres' 'North Austin'\n",
      " 'West University' 'Austin' 'Katy' 'Sharpstown' 'Sugar Land' 'Galveston'\n",
      " 'Port Bolivar' 'Washington Avenue' 'Briar Meadow' 'Latta' 'Jacksonville'\n",
      " 'Lake Reams' 'Orlando' 'Kissimmee' 'Daytona Beach' 'Ridgeland' 'Florence'\n",
      " 'Meredith' 'Holly Springs' 'Chessington' 'Burtrose' 'Parkway' 'Mcvan'\n",
      " 'Capitol One' 'University District' 'Seattle' 'Redmond' 'Bellevue'\n",
      " 'San Francisco' 'Palo Alto' 'Sunnyvale' 'Newark' 'Menlo Park' 'Old City'\n",
      " 'Savon Height' 'Kilarney Woods' 'Townes at Everett Crossing'\n",
      " 'Huntington Woods' 'Weston' 'Seaport' 'Medical Centre' 'Rose Hill' 'Soho'\n",
      " 'Tribeca' 'Financial District' 'Oakland' 'Emeryville' 'Berkeley' 'Kenner'\n",
      " 'CBD' 'Lower Garden District' 'Storyville' 'New Orleans' 'Chalmette'\n",
      " 'Arabi' 'Pontchartrain Shores' 'Metairie' 'Summerwinds' 'Parkwood'\n",
      " 'Banner Elk' 'Boone' 'Stonewater' 'Lexington Park at Amberly'\n",
      " 'Winston Salem' 'Asheville' 'Topton' 'Renaissance' 'Santa Clara'\n",
      " 'Ingleside' 'West Berkeley' 'Mountain View' 'El Cerrito' 'Krendle Woods'\n",
      " 'Fuquay-Varina' 'Rawalpindi' 'Lahore' 'Kar?chi' 'Katunayake' 'Gampaha']\n",
      "Unique stop points counts: 137 and values are : \n",
      "['Fort Pierce' 'West Palm Beach' 'Palm Beach' 'Cary' 'Morrisville'\n",
      " 'New York' 'Queens' 'East Harlem' 'NoMad' 'Midtown' 'Midtown East'\n",
      " 'Hudson Square' 'Lower Manhattan' \"Hell's Kitchen\" 'Queens County'\n",
      " 'Gulfton' 'Downtown' 'Houston' 'Jamestown Court' 'Durham' 'Whitebridge'\n",
      " 'Raleigh' 'Umstead' 'Hazelwood' 'Westpark Place' 'Meredith Townes'\n",
      " 'Leesville Hollow' 'Apex' 'Chapel Hill' 'Williamsburg Manor'\n",
      " 'Macgregor Downs' 'Edgehill Farms' 'Walnut Terrace' 'Midtown West'\n",
      " 'Long Island City' 'Jamaica' 'Unknown Location' 'Colombo' 'Nugegoda'\n",
      " 'Katunayaka' 'Islamabad' 'R?walpindi' 'Noorpur Shahan' 'Heritage Pines'\n",
      " 'Tanglewood' 'Waverly Place' 'Wayne Ridge' 'Northwoods'\n",
      " 'Depot Historic District' 'West University' 'Congress Ave District'\n",
      " 'Convention Center District' 'North Austin' 'The Drag' 'Coxville'\n",
      " 'South Congress' 'Katy' 'Alief' 'Sharpstown' 'Sugar Land' 'Galveston'\n",
      " 'Port Bolivar' 'Washington Avenue' 'Greater Greenspoint' 'Latta'\n",
      " 'Jacksonville' 'Kissimmee' 'Lake Reams' 'Orlando' 'Daytona Beach'\n",
      " 'Ridgeland' 'Florence' 'Cedar Hill' 'Holly Springs' 'Harden Place'\n",
      " 'Chessington' 'Burtrose' 'Parkway' 'Capitol One' 'University District'\n",
      " 'Redmond' 'Bellevue' 'Seattle' 'Mcvan' 'Palo Alto' 'Sunnyvale' 'Newark'\n",
      " 'Menlo Park' 'San Francisco' 'Preston' 'Parkway Museums' 'Hog Island'\n",
      " 'Savon Height' 'Kildaire Farms' 'Weston' 'Gramercy-Flatiron' 'Tudor City'\n",
      " 'Soho' 'Tribeca' 'Financial District' 'Kips Bay' 'Emeryville' 'Berkeley'\n",
      " 'Oakland' 'Bay Farm Island' 'New Orleans' 'Lower Garden District'\n",
      " 'Lakeview' 'Faubourg Marigny' 'Chalmette' 'Arabi' 'Metairie'\n",
      " 'Pontchartrain Shores' 'Kenner' 'Summerwinds' 'Parkwood' 'Banner Elk'\n",
      " 'Boone' 'Stonewater' 'Lexington Park at Amberly' 'Winston Salem'\n",
      " 'Asheville' 'Topton' 'Hayesville' 'Agnew' 'Potrero Flats' 'South'\n",
      " 'Southside' 'Mountain View' 'El Cerrito' 'Wake Co.' 'Fuquay-Varina'\n",
      " 'Rawalpindi' 'Lahore' 'Kar?chi' 'Gampaha' 'Ilukwatta']\n"
     ]
    }
   ],
   "source": [
    "# Printing unique start and stop points\n",
    "print ('Unique start points counts : {0} and values are : \\n{1}' .format(uberDriveDataFrame.START.nunique(),uberDriveDataFrame.START.unique()))\n",
    "print ('Unique stop points counts: {0} and values are : \\n{1}' .format(uberDriveDataFrame.STOP.nunique(), uberDriveDataFrame.STOP.unique()))"
   ]
  },
  {
   "cell_type": "code",
   "execution_count": 43,
   "metadata": {},
   "outputs": [
    {
     "name": "stdout",
     "output_type": "stream",
     "text": [
      "Value counts of each value of start points : \n",
      "Cary                161\n",
      "Unknown Location     55\n",
      "Morrisville          54\n",
      "Whitebridge          36\n",
      "Durham               30\n",
      "Kar?chi              26\n",
      "Raleigh              21\n",
      "Lahore               19\n",
      "Islamabad            15\n",
      "Midtown              11\n",
      "Name: START, dtype: int64\n",
      "Value counts of each value of stop points : \n",
      "Cary                155\n",
      "Morrisville          60\n",
      "Unknown Location     56\n",
      "Whitebridge          37\n",
      "Durham               30\n",
      "Kar?chi              26\n",
      "Raleigh              21\n",
      "Lahore               19\n",
      "Islamabad            14\n",
      "Apex                 11\n",
      "Name: STOP, dtype: int64\n",
      "Data set with same start and stop points : \n",
      "   Trip_Id        START_DATE          END_DATE  CATEGORY            START  \\\n",
      "0        1  01-01-2016 21:11  01-01-2016 21:17  Business      Fort Pierce   \n",
      "2        3  01-02-2016 20:25  01-02-2016 20:38  Business      Fort Pierce   \n",
      "3        4  01-05-2016 17:31  01-05-2016 17:45  Business      Fort Pierce   \n",
      "5        6  01-06-2016 17:15  01-06-2016 17:19  Business  West Palm Beach   \n",
      "7        8  01-07-2016 13:27  01-07-2016 13:33  Business             Cary   \n",
      "\n",
      "              STOP          PURPOSE  \n",
      "0      Fort Pierce   Meal/Entertain  \n",
      "2      Fort Pierce  Errand/Supplies  \n",
      "3      Fort Pierce          Meeting  \n",
      "5  West Palm Beach   Meal/Entertain  \n",
      "7             Cary          Meeting  \n"
     ]
    }
   ],
   "source": [
    "# Let's identify popular start points\n",
    "print (\"Value counts of each value of start points : \\n{0}\" .format(uberDriveDataFrame.START.value_counts().head(10)))\n",
    "\n",
    "# Let's identify popular stop points\n",
    "print (\"Value counts of each value of stop points : \\n{0}\" .format(uberDriveDataFrame.STOP.value_counts().head(10)))\n",
    "\n",
    "# Let's find out the dataset where start and stop points are same\n",
    "print (\"Data set with same start and stop points : \\n{0}\" \n",
    "     .format(uberDriveDataFrame[uberDriveDataFrame.START == uberDriveDataFrame.STOP].head()))"
   ]
  },
  {
   "cell_type": "code",
   "execution_count": 44,
   "metadata": {},
   "outputs": [
    {
     "name": "stdout",
     "output_type": "stream",
     "text": [
      "First 10 entries of merged data frame : \n",
      "   Trip_Id        START_DATE          END_DATE  CATEGORY            START  \\\n",
      "0        1  01-01-2016 21:11  01-01-2016 21:17  Business      Fort Pierce   \n",
      "1        3  01-02-2016 20:25  01-02-2016 20:38  Business      Fort Pierce   \n",
      "2        4  01-05-2016 17:31  01-05-2016 17:45  Business      Fort Pierce   \n",
      "3        5  01-06-2016 14:42  01-06-2016 15:49  Business      Fort Pierce   \n",
      "4        6  01-06-2016 17:15  01-06-2016 17:19  Business  West Palm Beach   \n",
      "5        7  01-06-2016 17:30  01-06-2016 17:35  Business  West Palm Beach   \n",
      "6        8  01-07-2016 13:27  01-07-2016 13:33  Business             Cary   \n",
      "7        9  01-10-2016 08:05  01-10-2016 08:25  Business             Cary   \n",
      "8       10  01-10-2016 12:17  01-10-2016 12:44  Business          Jamaica   \n",
      "9       11  01-10-2016 15:08  01-10-2016 15:51  Business         New York   \n",
      "\n",
      "              STOP          PURPOSE  MILES  \n",
      "0      Fort Pierce   Meal/Entertain    5.1  \n",
      "1      Fort Pierce  Errand/Supplies    4.8  \n",
      "2      Fort Pierce          Meeting    4.7  \n",
      "3  West Palm Beach   Customer Visit   63.7  \n",
      "4  West Palm Beach   Meal/Entertain    4.3  \n",
      "5       Palm Beach          Meeting    7.1  \n",
      "6             Cary          Meeting    0.8  \n",
      "7      Morrisville          Meeting    8.3  \n",
      "8         New York   Customer Visit   16.5  \n",
      "9           Queens          Meeting   10.8  \n",
      "Start points with most miles : \n",
      "START\n",
      "Cary                1443.8\n",
      "Unknown Location     573.2\n",
      "Jacksonville         375.2\n",
      "Raleigh              322.2\n",
      "Latta                310.3\n",
      "Durham               301.0\n",
      "Morrisville          287.0\n",
      "Whitebridge          181.8\n",
      "Boone                180.2\n",
      "Florence             159.3\n",
      "Name: MILES, dtype: float64\n"
     ]
    }
   ],
   "source": [
    "# Let's merge two data set\n",
    "CompleteUberData = pd.merge(uberDriveDataFrame, uberDriveMilesDataFrame, how = 'left', on = 'Trip_Id')\n",
    "print (\"First 10 entries of merged data frame : \\n{0}\" .format(CompleteUberData.head(10)))\n",
    "\n",
    "print(\"Start points with most miles : \\n{0}\" .format(CompleteUberData.groupby('START')['MILES'].sum().sort_values(ascending = False).head(10)))"
   ]
  },
  {
   "cell_type": "code",
   "execution_count": 45,
   "metadata": {},
   "outputs": [],
   "source": [
    "# Find the top10 start stop pair that have the most miles covered between them ever.\n",
    "CompleteUberData = CompleteUberData[CompleteUberData.START != 'Unknown Location']\n",
    "CompleteUberData = CompleteUberData[CompleteUberData.STOP != 'Unknown Location']"
   ]
  },
  {
   "cell_type": "code",
   "execution_count": 46,
   "metadata": {},
   "outputs": [
    {
     "name": "stdout",
     "output_type": "stream",
     "text": [
      "          START          STOP  MILES              Start-Stop\n",
      "0          Cary        Durham  312.3             Cary-Durham\n",
      "1         Latta  Jacksonville  310.3      Latta-Jacksonville\n",
      "2        Durham          Cary  298.4             Durham-Cary\n",
      "3          Cary   Morrisville  293.7        Cary-Morrisville\n",
      "4       Raleigh          Cary  269.5            Raleigh-Cary\n",
      "5   Morrisville          Cary  250.6        Morrisville-Cary\n",
      "6          Cary          Cary  233.9               Cary-Cary\n",
      "7          Cary       Raleigh  230.4            Cary-Raleigh\n",
      "8  Jacksonville     Kissimmee  201.0  Jacksonville-Kissimmee\n",
      "9         Boone          Cary  180.2              Boone-Cary\n"
     ]
    }
   ],
   "source": [
    "filteredData = CompleteUberData.groupby(['START', 'STOP'])['MILES'].sum().sort_values(ascending = False).head(10)\n",
    "filteredData = filteredData.reset_index()\n",
    "filteredData['Start-Stop'] = filteredData['START'] + '-' + filteredData['STOP']\n",
    "print (filteredData)"
   ]
  },
  {
   "cell_type": "code",
   "execution_count": 47,
   "metadata": {},
   "outputs": [],
   "source": [
    "# Let's merge two data set\n",
    "CompleteUberData = pd.merge(uberDriveDataFrame, uberDriveMilesDataFrame, how = 'left', on = 'Trip_Id')"
   ]
  },
  {
   "cell_type": "code",
   "execution_count": 48,
   "metadata": {},
   "outputs": [
    {
     "name": "stdout",
     "output_type": "stream",
     "text": [
      "CompleteUberData columns : \n",
      "Index(['Trip_Id', 'START_DATE', 'END_DATE', 'CATEGORY', 'START', 'STOP',\n",
      "       'PURPOSE', 'MILES'],\n",
      "      dtype='object')\n",
      "<class 'pandas.core.frame.DataFrame'>\n",
      "Int64Index: 653 entries, 0 to 652\n",
      "Data columns (total 8 columns):\n",
      " #   Column      Non-Null Count  Dtype  \n",
      "---  ------      --------------  -----  \n",
      " 0   Trip_Id     653 non-null    int64  \n",
      " 1   START_DATE  653 non-null    object \n",
      " 2   END_DATE    653 non-null    object \n",
      " 3   CATEGORY    653 non-null    object \n",
      " 4   START       653 non-null    object \n",
      " 5   STOP        653 non-null    object \n",
      " 6   PURPOSE     653 non-null    object \n",
      " 7   MILES       653 non-null    float64\n",
      "dtypes: float64(1), int64(1), object(6)\n",
      "memory usage: 45.9+ KB\n",
      "First 5 entries of merged data : \n",
      "     Trip_Id        START_DATE          END_DATE  CATEGORY             START  \\\n",
      "0          1  01-01-2016 21:11  01-01-2016 21:17  Business       Fort Pierce   \n",
      "1          3  01-02-2016 20:25  01-02-2016 20:38  Business       Fort Pierce   \n",
      "2          4  01-05-2016 17:31  01-05-2016 17:45  Business       Fort Pierce   \n",
      "3          5  01-06-2016 14:42  01-06-2016 15:49  Business       Fort Pierce   \n",
      "4          6  01-06-2016 17:15  01-06-2016 17:19  Business   West Palm Beach   \n",
      "..       ...               ...               ...       ...               ...   \n",
      "648     1151   12/31/2016 1:07   12/31/2016 1:14  Business           Kar?chi   \n",
      "649     1152  12/31/2016 13:24  12/31/2016 13:42  Business           Kar?chi   \n",
      "650     1153  12/31/2016 15:03  12/31/2016 15:38  Business  Unknown Location   \n",
      "651     1154  12/31/2016 21:32  12/31/2016 21:50  Business        Katunayake   \n",
      "652     1155  12/31/2016 22:08  12/31/2016 23:51  Business           Gampaha   \n",
      "\n",
      "                 STOP          PURPOSE  MILES            start_dt  \\\n",
      "0         Fort Pierce   Meal/Entertain    5.1 2016-01-01 21:11:00   \n",
      "1         Fort Pierce  Errand/Supplies    4.8 2016-01-02 20:25:00   \n",
      "2         Fort Pierce          Meeting    4.7 2016-01-05 17:31:00   \n",
      "3     West Palm Beach   Customer Visit   63.7 2016-01-06 14:42:00   \n",
      "4     West Palm Beach   Meal/Entertain    4.3 2016-01-06 17:15:00   \n",
      "..                ...              ...    ...                 ...   \n",
      "648           Kar?chi          Meeting    0.7 2016-12-31 01:07:00   \n",
      "649  Unknown Location   Temporary Site    3.9 2016-12-31 13:24:00   \n",
      "650  Unknown Location          Meeting   16.2 2016-12-31 15:03:00   \n",
      "651           Gampaha   Temporary Site    6.4 2016-12-31 21:32:00   \n",
      "652         Ilukwatta   Temporary Site   48.2 2016-12-31 22:08:00   \n",
      "\n",
      "                stop_dt  \n",
      "0   2016-01-01 21:17:00  \n",
      "1   2016-01-02 20:38:00  \n",
      "2   2016-01-05 17:45:00  \n",
      "3   2016-01-06 15:49:00  \n",
      "4   2016-01-06 17:19:00  \n",
      "..                  ...  \n",
      "648 2016-12-31 01:14:00  \n",
      "649 2016-12-31 13:42:00  \n",
      "650 2016-12-31 15:38:00  \n",
      "651 2016-12-31 21:50:00  \n",
      "652 2016-12-31 23:51:00  \n",
      "\n",
      "[653 rows x 10 columns]\n",
      "<class 'pandas.core.frame.DataFrame'>\n",
      "Int64Index: 653 entries, 0 to 652\n",
      "Data columns (total 10 columns):\n",
      " #   Column      Non-Null Count  Dtype         \n",
      "---  ------      --------------  -----         \n",
      " 0   Trip_Id     653 non-null    int64         \n",
      " 1   START_DATE  653 non-null    object        \n",
      " 2   END_DATE    653 non-null    object        \n",
      " 3   CATEGORY    653 non-null    object        \n",
      " 4   START       653 non-null    object        \n",
      " 5   STOP        653 non-null    object        \n",
      " 6   PURPOSE     653 non-null    object        \n",
      " 7   MILES       653 non-null    float64       \n",
      " 8   start_dt    653 non-null    datetime64[ns]\n",
      " 9   stop_dt     653 non-null    datetime64[ns]\n",
      "dtypes: datetime64[ns](2), float64(1), int64(1), object(6)\n",
      "memory usage: 56.1+ KB\n"
     ]
    }
   ],
   "source": [
    "print (\"CompleteUberData columns : \\n{0}\" .format(CompleteUberData.columns))\n",
    "CompleteUberData.info()\n",
    "\n",
    "CompleteUberData['start_dt'] = pd.to_datetime(CompleteUberData.START_DATE)\n",
    "CompleteUberData['stop_dt'] = pd.to_datetime(CompleteUberData.END_DATE)\n",
    "\n",
    "print (\"First 5 entries of merged data : \\n{0}\" .format(CompleteUberData))\n",
    "CompleteUberData.info()"
   ]
  },
  {
   "cell_type": "code",
   "execution_count": 49,
   "metadata": {},
   "outputs": [
    {
     "name": "stdout",
     "output_type": "stream",
     "text": [
      "First 5 entries of merged dataframe : \n",
      "                               0                    1                    2  \\\n",
      "Trip_Id                        1                    3                    4   \n",
      "START_DATE      01-01-2016 21:11     01-02-2016 20:25     01-05-2016 17:31   \n",
      "END_DATE        01-01-2016 21:17     01-02-2016 20:38     01-05-2016 17:45   \n",
      "CATEGORY                Business             Business             Business   \n",
      "START                Fort Pierce          Fort Pierce          Fort Pierce   \n",
      "STOP                 Fort Pierce          Fort Pierce          Fort Pierce   \n",
      "PURPOSE           Meal/Entertain      Errand/Supplies              Meeting   \n",
      "MILES                        5.1                  4.8                  4.7   \n",
      "start_dt     2016-01-01 21:11:00  2016-01-02 20:25:00  2016-01-05 17:31:00   \n",
      "stop_dt      2016-01-01 21:17:00  2016-01-02 20:38:00  2016-01-05 17:45:00   \n",
      "start_day                      1                    2                    5   \n",
      "start_hour                    21                   20                   17   \n",
      "start_month                    1                    1                    1   \n",
      "d_of_week                      4                    5                    1   \n",
      "\n",
      "                               3                    4  \n",
      "Trip_Id                        5                    6  \n",
      "START_DATE      01-06-2016 14:42     01-06-2016 17:15  \n",
      "END_DATE        01-06-2016 15:49     01-06-2016 17:19  \n",
      "CATEGORY                Business             Business  \n",
      "START                Fort Pierce      West Palm Beach  \n",
      "STOP             West Palm Beach      West Palm Beach  \n",
      "PURPOSE           Customer Visit       Meal/Entertain  \n",
      "MILES                       63.7                  4.3  \n",
      "start_dt     2016-01-06 14:42:00  2016-01-06 17:15:00  \n",
      "stop_dt      2016-01-06 15:49:00  2016-01-06 17:19:00  \n",
      "start_day                      6                    6  \n",
      "start_hour                    14                   17  \n",
      "start_month                    1                    1  \n",
      "d_of_week                      2                    2  \n"
     ]
    }
   ],
   "source": [
    "CompleteUberData['start_day'] = CompleteUberData['start_dt'].dt.day\n",
    "CompleteUberData['start_hour'] = CompleteUberData['start_dt'].dt.hour\n",
    "CompleteUberData['start_month'] = CompleteUberData['start_dt'].dt.month\n",
    "CompleteUberData['d_of_week'] = CompleteUberData['start_dt'].dt.dayofweek\n",
    "\n",
    "print (\"First 5 entries of merged dataframe : \\n{0}\" .format(CompleteUberData.head().T))"
   ]
  },
  {
   "cell_type": "code",
   "execution_count": 50,
   "metadata": {},
   "outputs": [
    {
     "name": "stdout",
     "output_type": "stream",
     "text": [
      "First 5 entries of merged data : \n",
      "                               0                    1                    2  \\\n",
      "Trip_Id                        1                    3                    4   \n",
      "START_DATE      01-01-2016 21:11     01-02-2016 20:25     01-05-2016 17:31   \n",
      "END_DATE        01-01-2016 21:17     01-02-2016 20:38     01-05-2016 17:45   \n",
      "CATEGORY                Business             Business             Business   \n",
      "START                Fort Pierce          Fort Pierce          Fort Pierce   \n",
      "STOP                 Fort Pierce          Fort Pierce          Fort Pierce   \n",
      "PURPOSE           Meal/Entertain      Errand/Supplies              Meeting   \n",
      "MILES                        5.1                  4.8                  4.7   \n",
      "start_dt     2016-01-01 21:11:00  2016-01-02 20:25:00  2016-01-05 17:31:00   \n",
      "stop_dt      2016-01-01 21:17:00  2016-01-02 20:38:00  2016-01-05 17:45:00   \n",
      "start_day                      1                    2                    5   \n",
      "start_hour                    21                   20                   17   \n",
      "start_month                    1                    1                    1   \n",
      "d_of_week                      4                    5                    1   \n",
      "weekday                      Fri                  Sat                  Tue   \n",
      "\n",
      "                               3                    4  \n",
      "Trip_Id                        5                    6  \n",
      "START_DATE      01-06-2016 14:42     01-06-2016 17:15  \n",
      "END_DATE        01-06-2016 15:49     01-06-2016 17:19  \n",
      "CATEGORY                Business             Business  \n",
      "START                Fort Pierce      West Palm Beach  \n",
      "STOP             West Palm Beach      West Palm Beach  \n",
      "PURPOSE           Customer Visit       Meal/Entertain  \n",
      "MILES                       63.7                  4.3  \n",
      "start_dt     2016-01-06 14:42:00  2016-01-06 17:15:00  \n",
      "stop_dt      2016-01-06 15:49:00  2016-01-06 17:19:00  \n",
      "start_day                      6                    6  \n",
      "start_hour                    14                   17  \n",
      "start_month                    1                    1  \n",
      "d_of_week                      2                    2  \n",
      "weekday                      Wed                  Wed  \n"
     ]
    }
   ],
   "source": [
    "CompleteUberData['weekday'] = CompleteUberData['start_dt'].apply(lambda x : datetime.strftime(x, \"%a\"))\n",
    "print (\"First 5 entries of merged data : \\n{0}\" .format(CompleteUberData.head().T))"
   ]
  },
  {
   "cell_type": "code",
   "execution_count": 51,
   "metadata": {},
   "outputs": [
    {
     "name": "stdout",
     "output_type": "stream",
     "text": [
      "First 5 entries of merged data : \n",
      "                               0                    1                    2  \\\n",
      "Trip_Id                        1                    3                    4   \n",
      "START_DATE      01-01-2016 21:11     01-02-2016 20:25     01-05-2016 17:31   \n",
      "END_DATE        01-01-2016 21:17     01-02-2016 20:38     01-05-2016 17:45   \n",
      "CATEGORY                Business             Business             Business   \n",
      "START                Fort Pierce          Fort Pierce          Fort Pierce   \n",
      "STOP                 Fort Pierce          Fort Pierce          Fort Pierce   \n",
      "PURPOSE           Meal/Entertain      Errand/Supplies              Meeting   \n",
      "MILES                        5.1                  4.8                  4.7   \n",
      "start_dt     2016-01-01 21:11:00  2016-01-02 20:25:00  2016-01-05 17:31:00   \n",
      "stop_dt      2016-01-01 21:17:00  2016-01-02 20:38:00  2016-01-05 17:45:00   \n",
      "start_day                      1                    2                    5   \n",
      "start_hour                    21                   20                   17   \n",
      "start_month                    1                    1                    1   \n",
      "d_of_week                      4                    5                    1   \n",
      "weekday                      Fri                  Sat                  Tue   \n",
      "cal_month                    Jan                  Jan                  Jan   \n",
      "\n",
      "                               3                    4  \n",
      "Trip_Id                        5                    6  \n",
      "START_DATE      01-06-2016 14:42     01-06-2016 17:15  \n",
      "END_DATE        01-06-2016 15:49     01-06-2016 17:19  \n",
      "CATEGORY                Business             Business  \n",
      "START                Fort Pierce      West Palm Beach  \n",
      "STOP             West Palm Beach      West Palm Beach  \n",
      "PURPOSE           Customer Visit       Meal/Entertain  \n",
      "MILES                       63.7                  4.3  \n",
      "start_dt     2016-01-06 14:42:00  2016-01-06 17:15:00  \n",
      "stop_dt      2016-01-06 15:49:00  2016-01-06 17:19:00  \n",
      "start_day                      6                    6  \n",
      "start_hour                    14                   17  \n",
      "start_month                    1                    1  \n",
      "d_of_week                      2                    2  \n",
      "weekday                      Wed                  Wed  \n",
      "cal_month                    Jan                  Jan  \n"
     ]
    }
   ],
   "source": [
    "CompleteUberData['cal_month'] = CompleteUberData['start_dt'].apply(lambda x : datetime.strftime(x , \"%b\"))\n",
    "print (\"First 5 entries of merged data : \\n{0}\" .format(CompleteUberData.head().T))"
   ]
  },
  {
   "cell_type": "code",
   "execution_count": 52,
   "metadata": {},
   "outputs": [
    {
     "name": "stdout",
     "output_type": "stream",
     "text": [
      "Busiest month in terms of drives : \n",
      "cal_month\n",
      "Dec    134\n",
      "Feb     82\n",
      "Jun     73\n",
      "Mar     71\n",
      "Nov     60\n",
      "Name: Trip_Id, dtype: int64\n"
     ]
    }
   ],
   "source": [
    "busiestmonthByDrives = CompleteUberData.groupby('cal_month')['Trip_Id'].count().sort_values(ascending = False)\n",
    "print (\"Busiest month in terms of drives : \\n{0}\" .format(busiestmonthByDrives.head()))"
   ]
  },
  {
   "cell_type": "code",
   "execution_count": 53,
   "metadata": {},
   "outputs": [
    {
     "name": "stdout",
     "output_type": "stream",
     "text": [
      "Busiest month in terms of miles : \n",
      "cal_month\n",
      "Mar    1455.9\n",
      "Apr    1094.9\n",
      "Dec     924.4\n",
      "Feb     727.2\n",
      "Nov     635.4\n",
      "Name: MILES, dtype: float64\n"
     ]
    }
   ],
   "source": [
    "busiestmonthByMiles = CompleteUberData.groupby('cal_month')['MILES'].sum().sort_values(ascending = False)\n",
    "print (\"Busiest month in terms of miles : \\n{0}\" .format(busiestmonthByMiles.head()))"
   ]
  },
  {
   "cell_type": "code",
   "execution_count": 54,
   "metadata": {},
   "outputs": [
    {
     "name": "stdout",
     "output_type": "stream",
     "text": [
      "Busiest Day in terms of Ride numbers : \n",
      "weekday\n",
      "Fri    125\n",
      "Tue     94\n",
      "Thu     92\n",
      "Sun     87\n",
      "Mon     87\n",
      "Name: Trip_Id, dtype: int64\n"
     ]
    }
   ],
   "source": [
    "busiestDayByRides = CompleteUberData.groupby('weekday')['Trip_Id'].count().sort_values(ascending = False)\n",
    "print (\"Busiest Day in terms of Ride numbers : \\n{0}\" .format(busiestDayByRides.head()))"
   ]
  },
  {
   "cell_type": "code",
   "execution_count": 55,
   "metadata": {},
   "outputs": [
    {
     "name": "stdout",
     "output_type": "stream",
     "text": [
      "Peak hours : \n",
      "start_hour\n",
      "0     13\n",
      "1      4\n",
      "2      1\n",
      "3      3\n",
      "5      3\n",
      "6      2\n",
      "7      8\n",
      "8     17\n",
      "9     26\n",
      "10    33\n",
      "11    39\n",
      "12    43\n",
      "13    55\n",
      "14    52\n",
      "15    51\n",
      "16    45\n",
      "17    51\n",
      "18    51\n",
      "19    35\n",
      "20    45\n",
      "21    34\n",
      "22    21\n",
      "23    21\n",
      "Name: start_hour, dtype: int64\n"
     ]
    }
   ],
   "source": [
    "peakHours = CompleteUberData.groupby('start_hour')['start_hour'].count()\n",
    "print (\"Peak hours : \\n{0}\" .format(peakHours))"
   ]
  },
  {
   "cell_type": "code",
   "execution_count": 56,
   "metadata": {},
   "outputs": [
    {
     "name": "stdout",
     "output_type": "stream",
     "text": [
      "Trips where starting and ending is same : \n",
      "                               0                    1                    2  \\\n",
      "Trip_Id                        1                    3                    4   \n",
      "START_DATE      01-01-2016 21:11     01-02-2016 20:25     01-05-2016 17:31   \n",
      "END_DATE        01-01-2016 21:17     01-02-2016 20:38     01-05-2016 17:45   \n",
      "CATEGORY                Business             Business             Business   \n",
      "START                Fort Pierce          Fort Pierce          Fort Pierce   \n",
      "STOP                 Fort Pierce          Fort Pierce          Fort Pierce   \n",
      "PURPOSE           Meal/Entertain      Errand/Supplies              Meeting   \n",
      "MILES                        5.1                  4.8                  4.7   \n",
      "start_dt     2016-01-01 21:11:00  2016-01-02 20:25:00  2016-01-05 17:31:00   \n",
      "stop_dt      2016-01-01 21:17:00  2016-01-02 20:38:00  2016-01-05 17:45:00   \n",
      "start_day                      1                    2                    5   \n",
      "start_hour                    21                   20                   17   \n",
      "start_month                    1                    1                    1   \n",
      "d_of_week                      4                    5                    1   \n",
      "weekday                      Fri                  Sat                  Tue   \n",
      "cal_month                    Jan                  Jan                  Jan   \n",
      "Diff             0 days 00:06:00      0 days 00:13:00      0 days 00:14:00   \n",
      "\n",
      "                               3                    4  \n",
      "Trip_Id                        5                    6  \n",
      "START_DATE      01-06-2016 14:42     01-06-2016 17:15  \n",
      "END_DATE        01-06-2016 15:49     01-06-2016 17:19  \n",
      "CATEGORY                Business             Business  \n",
      "START                Fort Pierce      West Palm Beach  \n",
      "STOP             West Palm Beach      West Palm Beach  \n",
      "PURPOSE           Customer Visit       Meal/Entertain  \n",
      "MILES                       63.7                  4.3  \n",
      "start_dt     2016-01-06 14:42:00  2016-01-06 17:15:00  \n",
      "stop_dt      2016-01-06 15:49:00  2016-01-06 17:19:00  \n",
      "start_day                      6                    6  \n",
      "start_hour                    14                   17  \n",
      "start_month                    1                    1  \n",
      "d_of_week                      2                    2  \n",
      "weekday                      Wed                  Wed  \n",
      "cal_month                    Jan                  Jan  \n",
      "Diff             0 days 01:07:00      0 days 00:04:00  \n"
     ]
    }
   ],
   "source": [
    "# For practice - figure out the trips that are starting and ending at the same\n",
    "# time (0 minutes elapsed).\n",
    "\n",
    "CompleteUberData['Diff'] = CompleteUberData.stop_dt - CompleteUberData.start_dt\n",
    "print (\"Trips where starting and ending is same : \\n{0}\" .format(CompleteUberData.head().T))"
   ]
  },
  {
   "cell_type": "code",
   "execution_count": 57,
   "metadata": {},
   "outputs": [
    {
     "name": "stdout",
     "output_type": "stream",
     "text": [
      "dataSetWith0Diff : \n",
      "Empty DataFrame\n",
      "Columns: [Trip_Id, START_DATE, END_DATE, CATEGORY, START, STOP, PURPOSE, MILES, start_dt, stop_dt, start_day, start_hour, start_month, d_of_week, weekday, cal_month, Diff, Total_Seconds_Diff]\n",
      "Index: []\n"
     ]
    }
   ],
   "source": [
    "CompleteUberData['Total_Seconds_Diff'] = CompleteUberData['Diff'].apply(lambda x: timedelta.total_seconds(x))\n",
    "dataSetWith0Diff = CompleteUberData[CompleteUberData.Total_Seconds_Diff == 0]\n",
    "print (\"dataSetWith0Diff : \\n{0}\" .format(dataSetWith0Diff))"
   ]
  },
  {
   "cell_type": "code",
   "execution_count": 58,
   "metadata": {},
   "outputs": [
    {
     "name": "stdout",
     "output_type": "stream",
     "text": [
      "CompleteUberData with Speed : \n",
      "                                      0                    1  \\\n",
      "Trip_Id                               1                    3   \n",
      "START_DATE             01-01-2016 21:11     01-02-2016 20:25   \n",
      "END_DATE               01-01-2016 21:17     01-02-2016 20:38   \n",
      "CATEGORY                       Business             Business   \n",
      "START                       Fort Pierce          Fort Pierce   \n",
      "STOP                        Fort Pierce          Fort Pierce   \n",
      "PURPOSE                  Meal/Entertain      Errand/Supplies   \n",
      "MILES                               5.1                  4.8   \n",
      "start_dt            2016-01-01 21:11:00  2016-01-02 20:25:00   \n",
      "stop_dt             2016-01-01 21:17:00  2016-01-02 20:38:00   \n",
      "start_day                             1                    2   \n",
      "start_hour                           21                   20   \n",
      "start_month                           1                    1   \n",
      "d_of_week                             4                    5   \n",
      "weekday                             Fri                  Sat   \n",
      "cal_month                           Jan                  Jan   \n",
      "Diff                    0 days 00:06:00      0 days 00:13:00   \n",
      "Total_Seconds_Diff                  360                  780   \n",
      "Total_Hours_diff                      6                   13   \n",
      "Speed_MPH                          0.85             0.369231   \n",
      "\n",
      "                                      2                    3  \\\n",
      "Trip_Id                               4                    5   \n",
      "START_DATE             01-05-2016 17:31     01-06-2016 14:42   \n",
      "END_DATE               01-05-2016 17:45     01-06-2016 15:49   \n",
      "CATEGORY                       Business             Business   \n",
      "START                       Fort Pierce          Fort Pierce   \n",
      "STOP                        Fort Pierce      West Palm Beach   \n",
      "PURPOSE                         Meeting       Customer Visit   \n",
      "MILES                               4.7                 63.7   \n",
      "start_dt            2016-01-05 17:31:00  2016-01-06 14:42:00   \n",
      "stop_dt             2016-01-05 17:45:00  2016-01-06 15:49:00   \n",
      "start_day                             5                    6   \n",
      "start_hour                           17                   14   \n",
      "start_month                           1                    1   \n",
      "d_of_week                             1                    2   \n",
      "weekday                             Tue                  Wed   \n",
      "cal_month                           Jan                  Jan   \n",
      "Diff                    0 days 00:14:00      0 days 01:07:00   \n",
      "Total_Seconds_Diff                  840                 4020   \n",
      "Total_Hours_diff                     14                   67   \n",
      "Speed_MPH                      0.335714             0.950746   \n",
      "\n",
      "                                      4  \n",
      "Trip_Id                               6  \n",
      "START_DATE             01-06-2016 17:15  \n",
      "END_DATE               01-06-2016 17:19  \n",
      "CATEGORY                       Business  \n",
      "START                   West Palm Beach  \n",
      "STOP                    West Palm Beach  \n",
      "PURPOSE                  Meal/Entertain  \n",
      "MILES                               4.3  \n",
      "start_dt            2016-01-06 17:15:00  \n",
      "stop_dt             2016-01-06 17:19:00  \n",
      "start_day                             6  \n",
      "start_hour                           17  \n",
      "start_month                           1  \n",
      "d_of_week                             2  \n",
      "weekday                             Wed  \n",
      "cal_month                           Jan  \n",
      "Diff                    0 days 00:04:00  \n",
      "Total_Seconds_Diff                  240  \n",
      "Total_Hours_diff                      4  \n",
      "Speed_MPH                         1.075  \n"
     ]
    }
   ],
   "source": [
    "CompleteUberData['Total_Hours_diff'] = CompleteUberData.Total_Seconds_Diff / 60\n",
    "\n",
    "CompleteUberData['Speed_MPH'] = CompleteUberData.MILES / CompleteUberData.Total_Hours_diff\n",
    "print (\"CompleteUberData with Speed : \\n{0}\" .format(CompleteUberData.head(5).T))"
   ]
  },
  {
   "cell_type": "code",
   "execution_count": 59,
   "metadata": {},
   "outputs": [
    {
     "name": "stdout",
     "output_type": "stream",
     "text": [
      "Most frequent trip category : \n",
      "CATEGORY\n",
      "Business    647\n",
      "Personal      6\n",
      "Name: Trip_Id, dtype: int64\n"
     ]
    }
   ],
   "source": [
    "# Category start_hour& Purpose\n",
    "# Most frequent trip category\n",
    "print (\"Most frequent trip category : \\n{0}\" .format(CompleteUberData.groupby('CATEGORY')['Trip_Id'].count().sort_values(ascending = False)))"
   ]
  },
  {
   "cell_type": "code",
   "execution_count": 60,
   "metadata": {},
   "outputs": [
    {
     "name": "stdout",
     "output_type": "stream",
     "text": [
      "Most frequent trip purpose : \n",
      "PURPOSE\n",
      "Meeting            187\n",
      "Meal/Entertain     160\n",
      "Errand/Supplies    128\n",
      "Customer Visit     101\n",
      "Temporary Site      50\n",
      "Between Offices     18\n",
      "Moving               4\n",
      "Airport/Travel       3\n",
      "Commute              1\n",
      "Charity ($)          1\n",
      "Name: Trip_Id, dtype: int64\n"
     ]
    }
   ],
   "source": [
    "#  Most frequent trip purpose\n",
    "print (\"Most frequent trip purpose : \\n{0}\" .format(CompleteUberData.groupby('PURPOSE')['Trip_Id'].count().sort_values(ascending = False)))"
   ]
  },
  {
   "cell_type": "code",
   "execution_count": 61,
   "metadata": {},
   "outputs": [
    {
     "name": "stdout",
     "output_type": "stream",
     "text": [
      "Miles driven per category : \n",
      "CATEGORY\n",
      "Business    7097.7\n",
      "Personal     213.5\n",
      "Name: MILES, dtype: float64\n"
     ]
    }
   ],
   "source": [
    "# Miles driven per category \n",
    "print (\"Miles driven per category : \\n{0}\" .format(CompleteUberData.groupby('CATEGORY')['MILES'].sum().sort_values(ascending = False)))"
   ]
  },
  {
   "cell_type": "code",
   "execution_count": 62,
   "metadata": {},
   "outputs": [
    {
     "name": "stdout",
     "output_type": "stream",
     "text": [
      "Miles driven per purpose : \n",
      "PURPOSE\n",
      "Meeting            2851.3\n",
      "Customer Visit     2089.5\n",
      "Meal/Entertain      911.7\n",
      "Temporary Site      523.7\n",
      "Errand/Supplies     508.0\n",
      "Between Offices     197.0\n",
      "Commute             180.2\n",
      "Moving               18.2\n",
      "Airport/Travel       16.5\n",
      "Charity ($)          15.1\n",
      "Name: MILES, dtype: float64\n"
     ]
    }
   ],
   "source": [
    "# Miles driven per purpose \n",
    "print (\"Miles driven per purpose : \\n{0}\" .format(CompleteUberData.groupby('PURPOSE')['MILES'].sum().sort_values(ascending = False)))"
   ]
  },
  {
   "cell_type": "code",
   "execution_count": 63,
   "metadata": {},
   "outputs": [
    {
     "name": "stdout",
     "output_type": "stream",
     "text": [
      "           MILES\n",
      "CATEGORY        \n",
      "Business  7097.7\n",
      "Personal   213.5\n",
      "           MILES  % of Miles\n",
      "CATEGORY                    \n",
      "Business  7097.7   97.079823\n",
      "Personal   213.5    2.920177\n",
      "Data frame : \n",
      "          % of MILES\n",
      "CATEGORY            \n",
      "Business   97.079823\n",
      "Personal    2.920177\n"
     ]
    }
   ],
   "source": [
    "# What is percentage of business miles vs personal?\n",
    "categoryData = CompleteUberData.groupby('CATEGORY').agg({'MILES': 'sum'})\n",
    "print (categoryData.head())\n",
    "TotalMilesDriven = categoryData.MILES.sum()\n",
    "\n",
    "categoryData['% of Miles'] = (categoryData.MILES / TotalMilesDriven)* 100\n",
    "print (categoryData.head())\n",
    "\n",
    "newDF = CompleteUberData.groupby('CATEGORY').agg({'MILES' : 'sum'})\n",
    "updatedDF = newDF.apply(lambda x : x /x.sum() * 100).rename(columns = {'MILES' : '% of MILES'})\n",
    "print (\"Data frame : \\n{0}\" .format(updatedDF))"
   ]
  }
 ],
 "metadata": {
  "colab": {
   "authorship_tag": "ABX9TyO+uZnTHxIr5f7+reLWY90E",
   "collapsed_sections": [],
   "mount_file_id": "1lAPPzarh-6F9D7av3hIufmRIuenE5ZAi",
   "name": "UberDataAnalysis.ipynb",
   "provenance": []
  },
  "kernelspec": {
   "display_name": "Python 3",
   "language": "python",
   "name": "python3"
  },
  "language_info": {
   "codemirror_mode": {
    "name": "ipython",
    "version": 3
   },
   "file_extension": ".py",
   "mimetype": "text/x-python",
   "name": "python",
   "nbconvert_exporter": "python",
   "pygments_lexer": "ipython3",
   "version": "3.6.9"
  }
 },
 "nbformat": 4,
 "nbformat_minor": 4
}
